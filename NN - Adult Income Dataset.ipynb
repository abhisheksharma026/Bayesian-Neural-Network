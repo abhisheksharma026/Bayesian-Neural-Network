{
 "cells": [
  {
   "cell_type": "code",
   "execution_count": 1,
   "metadata": {},
   "outputs": [
    {
     "name": "stderr",
     "output_type": "stream",
     "text": [
      "Using TensorFlow backend.\n"
     ]
    }
   ],
   "source": [
    "import pandas as pd\n",
    "import numpy as np\n",
    "np.seterr(divide='ignore', invalid='ignore')\n",
    "\n",
    "import math\n",
    "import seaborn as sns\n",
    "import scipy.stats as ss\n",
    "import matplotlib.pyplot as plt\n",
    "from collections import Counter\n",
    "import itertools\n",
    "import seaborn as sns\n",
    "\n",
    "import matplotlib.pyplot as plt\n",
    "%matplotlib inline\n",
    "\n",
    "from sklearn.model_selection import train_test_split\n",
    "from sklearn.preprocessing import MinMaxScaler\n",
    "import os\n",
    "\n",
    "from sklearn.linear_model import Lasso\n",
    "from sklearn.feature_selection import SelectFromModel\n",
    "from sklearn.model_selection import train_test_split\n",
    "from sklearn.preprocessing import LabelEncoder, LabelBinarizer, OrdinalEncoder, OneHotEncoder\n",
    "from sklearn.feature_selection import SelectKBest, f_classif, chi2\n",
    "\n",
    "from sklearn.feature_selection import SelectKBest\n",
    "from tensorflow import keras\n",
    "from keras.wrappers.scikit_learn import KerasClassifier\n",
    "from sklearn.model_selection import cross_val_score\n",
    "\n",
    "from keras.layers import BatchNormalization\n",
    "\n",
    "from gensim import utils\n",
    "import gensim.parsing.preprocessing as gsp\n",
    "\n",
    "import shap\n",
    "from catboost import Pool\n",
    "\n",
    "import warnings\n",
    "warnings.filterwarnings(action='ignore', category=UserWarning)\n",
    "\n",
    "\n",
    "import sys\n",
    "np.set_printoptions(threshold=sys.maxsize)\n",
    "\n",
    "\n",
    "from keras.wrappers.scikit_learn import KerasClassifier\n",
    "\n",
    "from sklearn.preprocessing import LabelEncoder\n",
    "\n",
    "import seaborn as sns\n",
    "from sklearn.preprocessing import LabelBinarizer\n",
    "from sklearn.model_selection import train_test_split\n",
    "\n",
    "from sklearn.feature_selection import SelectKBest, chi2\n",
    "from matplotlib import pyplot\n",
    "\n",
    "\n",
    "from sklearn.compose import ColumnTransformer\n",
    "from sklearn.feature_extraction.text import CountVectorizer, TfidfVectorizer\n",
    "from sklearn.preprocessing import OneHotEncoder\n",
    "from sklearn.pipeline import make_pipeline\n",
    "from sklearn.pipeline import Pipeline\n",
    "\n",
    "from sklearn.metrics import roc_curve, auc\n",
    "from itertools import cycle\n",
    "\n",
    "from keras.models import Sequential\n",
    "from keras.layers import Dense, Dropout\n",
    "from sklearn.model_selection import GridSearchCV\n",
    "from keras.wrappers.scikit_learn import KerasClassifier\n",
    "from bayes_opt import BayesianOptimization\n",
    "from keras.callbacks import EarlyStopping\n",
    "\n",
    "from sklearn.impute import SimpleImputer\n",
    "from sklearn.preprocessing import StandardScaler\n",
    "\n",
    "global pbounds\n",
    "\n",
    "import time\n",
    "from sklearn.metrics import classification_report,confusion_matrix\n",
    "from sklearn.model_selection import GridSearchCV\n",
    "from sklearn.model_selection import cross_val_score\n",
    "from sklearn.metrics import roc_auc_score\n",
    "\n",
    "from imblearn.over_sampling import RandomOverSampler\n",
    "\n",
    "from gensim import utils\n",
    "import gensim.parsing.preprocessing as gsp\n",
    "\n",
    "import joblib\n",
    "\n",
    "pd.set_option('display.max_columns', None)  \n",
    "pd.set_option('display.expand_frame_repr', False)\n",
    "pd.set_option('max_colwidth', -1)"
   ]
  },
  {
   "cell_type": "code",
   "execution_count": 2,
   "metadata": {},
   "outputs": [
    {
     "name": "stdout",
     "output_type": "stream",
     "text": [
      "Current working directory : C:\\Users\\abhishek_sharma39\n"
     ]
    }
   ],
   "source": [
    "working_path = os.getcwd()\n",
    "print(\"Current working directory :\", working_path)"
   ]
  },
  {
   "cell_type": "code",
   "execution_count": 3,
   "metadata": {},
   "outputs": [],
   "source": [
    "data_file = r\"C:\\Users\\abhishek_sharma39\\Income-Prediction-using-Flask\\adult.csv\"\n",
    "\n",
    "path = os.path.join(working_path, data_file)\n",
    "    \n",
    "def read_data(path, subset, frac, duplicates = False):\n",
    "    \n",
    "    ext = data_file.rsplit('.', 1)[1].lower()\n",
    "    if ext == 'csv' or ext == 'tsv':\n",
    "        df = pd.read_csv(path ,low_memory=False)\n",
    "    elif ext == 'xlsx':\n",
    "        df = pd.read_excel(path)\n",
    "    \n",
    "    if duplicates == True:\n",
    "        df = df.drop_duplicates(subset = subset, keep = 'first')\n",
    "    return df.sample(frac=frac)\n",
    "\n",
    "df = read_data(path, subset = None, frac = 1)"
   ]
  },
  {
   "cell_type": "code",
   "execution_count": 4,
   "metadata": {},
   "outputs": [
    {
     "data": {
      "text/html": [
       "<div>\n",
       "<style scoped>\n",
       "    .dataframe tbody tr th:only-of-type {\n",
       "        vertical-align: middle;\n",
       "    }\n",
       "\n",
       "    .dataframe tbody tr th {\n",
       "        vertical-align: top;\n",
       "    }\n",
       "\n",
       "    .dataframe thead th {\n",
       "        text-align: right;\n",
       "    }\n",
       "</style>\n",
       "<table border=\"1\" class=\"dataframe\">\n",
       "  <thead>\n",
       "    <tr style=\"text-align: right;\">\n",
       "      <th></th>\n",
       "      <th>age</th>\n",
       "      <th>workclass</th>\n",
       "      <th>fnlwgt</th>\n",
       "      <th>education</th>\n",
       "      <th>education.num</th>\n",
       "      <th>marital.status</th>\n",
       "      <th>occupation</th>\n",
       "      <th>relationship</th>\n",
       "      <th>race</th>\n",
       "      <th>sex</th>\n",
       "      <th>capital.gain</th>\n",
       "      <th>capital.loss</th>\n",
       "      <th>hours.per.week</th>\n",
       "      <th>native.country</th>\n",
       "      <th>income</th>\n",
       "    </tr>\n",
       "  </thead>\n",
       "  <tbody>\n",
       "    <tr>\n",
       "      <td>14641</td>\n",
       "      <td>42</td>\n",
       "      <td>Local-gov</td>\n",
       "      <td>199095</td>\n",
       "      <td>Assoc-voc</td>\n",
       "      <td>11</td>\n",
       "      <td>Widowed</td>\n",
       "      <td>Prof-specialty</td>\n",
       "      <td>Unmarried</td>\n",
       "      <td>Black</td>\n",
       "      <td>Female</td>\n",
       "      <td>0</td>\n",
       "      <td>0</td>\n",
       "      <td>40</td>\n",
       "      <td>United-States</td>\n",
       "      <td>&lt;=50K</td>\n",
       "    </tr>\n",
       "    <tr>\n",
       "      <td>31471</td>\n",
       "      <td>23</td>\n",
       "      <td>Private</td>\n",
       "      <td>149204</td>\n",
       "      <td>Bachelors</td>\n",
       "      <td>13</td>\n",
       "      <td>Never-married</td>\n",
       "      <td>Exec-managerial</td>\n",
       "      <td>Own-child</td>\n",
       "      <td>White</td>\n",
       "      <td>Male</td>\n",
       "      <td>0</td>\n",
       "      <td>0</td>\n",
       "      <td>40</td>\n",
       "      <td>United-States</td>\n",
       "      <td>&lt;=50K</td>\n",
       "    </tr>\n",
       "    <tr>\n",
       "      <td>16881</td>\n",
       "      <td>27</td>\n",
       "      <td>Private</td>\n",
       "      <td>29523</td>\n",
       "      <td>10th</td>\n",
       "      <td>6</td>\n",
       "      <td>Married-civ-spouse</td>\n",
       "      <td>Handlers-cleaners</td>\n",
       "      <td>Husband</td>\n",
       "      <td>White</td>\n",
       "      <td>Male</td>\n",
       "      <td>0</td>\n",
       "      <td>0</td>\n",
       "      <td>40</td>\n",
       "      <td>United-States</td>\n",
       "      <td>&lt;=50K</td>\n",
       "    </tr>\n",
       "  </tbody>\n",
       "</table>\n",
       "</div>"
      ],
      "text/plain": [
       "       age  workclass  fnlwgt  education  education.num      marital.status         occupation relationship   race     sex  capital.gain  capital.loss  hours.per.week native.country income\n",
       "14641  42   Local-gov  199095  Assoc-voc  11             Widowed             Prof-specialty     Unmarried    Black  Female  0             0             40              United-States  <=50K\n",
       "31471  23   Private    149204  Bachelors  13             Never-married       Exec-managerial    Own-child    White  Male    0             0             40              United-States  <=50K\n",
       "16881  27   Private    29523   10th       6              Married-civ-spouse  Handlers-cleaners  Husband      White  Male    0             0             40              United-States  <=50K"
      ]
     },
     "execution_count": 4,
     "metadata": {},
     "output_type": "execute_result"
    }
   ],
   "source": [
    "df.head(3)"
   ]
  },
  {
   "cell_type": "code",
   "execution_count": 5,
   "metadata": {
    "scrolled": false
   },
   "outputs": [
    {
     "name": "stdout",
     "output_type": "stream",
     "text": [
      "<class 'pandas.core.frame.DataFrame'>\n",
      "Int64Index: 32561 entries, 14641 to 8368\n",
      "Data columns (total 15 columns):\n",
      "age               32561 non-null int64\n",
      "workclass         32561 non-null object\n",
      "fnlwgt            32561 non-null int64\n",
      "education         32561 non-null object\n",
      "education.num     32561 non-null int64\n",
      "marital.status    32561 non-null object\n",
      "occupation        32561 non-null object\n",
      "relationship      32561 non-null object\n",
      "race              32561 non-null object\n",
      "sex               32561 non-null object\n",
      "capital.gain      32561 non-null int64\n",
      "capital.loss      32561 non-null int64\n",
      "hours.per.week    32561 non-null int64\n",
      "native.country    32561 non-null object\n",
      "income            32561 non-null object\n",
      "dtypes: int64(6), object(9)\n",
      "memory usage: 4.0+ MB\n"
     ]
    }
   ],
   "source": [
    "df.info()"
   ]
  },
  {
   "cell_type": "code",
   "execution_count": 6,
   "metadata": {},
   "outputs": [
    {
     "data": {
      "text/plain": [
       "<=50K    24720\n",
       ">50K     7841 \n",
       "Name: income, dtype: int64"
      ]
     },
     "execution_count": 6,
     "metadata": {},
     "output_type": "execute_result"
    }
   ],
   "source": [
    "df[\"income\"].value_counts() # Imbalanced dataset"
   ]
  },
  {
   "cell_type": "code",
   "execution_count": 7,
   "metadata": {},
   "outputs": [
    {
     "data": {
      "text/plain": [
       "0    24720\n",
       "1    7841 \n",
       "Name: income, dtype: int64"
      ]
     },
     "execution_count": 7,
     "metadata": {},
     "output_type": "execute_result"
    }
   ],
   "source": [
    "df['income'] = [0 if x == '<=50K' else 1 for x in df['income']]\n",
    "df[\"income\"].value_counts() # Imbalanced dataset"
   ]
  },
  {
   "cell_type": "code",
   "execution_count": 8,
   "metadata": {},
   "outputs": [
    {
     "name": "stdout",
     "output_type": "stream",
     "text": [
      "For Categorical Variables\n",
      "\n",
      "For Numerical Variables\n"
     ]
    }
   ],
   "source": [
    "def missing_value(df):\n",
    "    global catg_vars_with_na, num_vars_with_na\n",
    "    catg_vars_with_na = [var for var in df.columns if df[var].isnull().sum()>=1 and df[var].dtypes == 'O']\n",
    "\n",
    "    # Print the variable name and the % of missing values\n",
    "    print(\"For Categorical Variables\")\n",
    "    for var in catg_vars_with_na:\n",
    "        print(var, np.round(df[var].isnull().mean(), 3),  ' % missing values')\n",
    "        \n",
    "    print()\n",
    "    print(\"For Numerical Variables\")\n",
    "        \n",
    "    num_vars_with_na = [var for var in df.columns if df[var].isnull().sum()>1 and df[var].dtypes!='O']\n",
    "    for var in num_vars_with_na:\n",
    "        print(var, np.round(df[var].isnull().mean(), 3),  ' % missing values')\n",
    "        \n",
    "        \n",
    "missing_value(df)"
   ]
  },
  {
   "cell_type": "code",
   "execution_count": 9,
   "metadata": {},
   "outputs": [
    {
     "data": {
      "image/png": "[encoded data removed]",
      "text/plain": [
       "<Figure size 720x576 with 1 Axes>"
      ]
     },
     "metadata": {
      "needs_background": "light"
     },
     "output_type": "display_data"
    }
   ],
   "source": [
    "def value_count(df, col_name):\n",
    "    import seaborn as sns\n",
    "    import matplotlib.pyplot as plt\n",
    "    \n",
    "    plt.figure(figsize=(10,8))\n",
    "    ax = sns.countplot(y = col_name, data=df, orient = 'v')\n",
    "\n",
    "    plt.title('Distribution')\n",
    "\n",
    "    total = len(df[col_name])\n",
    "    for p in ax.patches:\n",
    "\n",
    "        percentage = '{:.5f}%'.format(100 * p.get_width()/total)\n",
    "        x = p.get_x() + p.get_width() + 0.02\n",
    "        y = p.get_y() + p.get_height()/2\n",
    "        ax.annotate(percentage, (x, y))\n",
    "\n",
    "    plt.show()\n",
    "    \n",
    "value_count(df, \"income\")"
   ]
  },
  {
   "cell_type": "code",
   "execution_count": 10,
   "metadata": {},
   "outputs": [
    {
     "name": "stdout",
     "output_type": "stream",
     "text": [
      "Unique values in columns :\n",
      "age : is 73\n",
      "workclass : is 9\n",
      "fnlwgt : is 21648\n",
      "education : is 16\n",
      "education.num : is 16\n",
      "marital.status : is 7\n",
      "occupation : is 15\n",
      "relationship : is 6\n",
      "race : is 5\n",
      "sex : is 2\n",
      "capital.gain : is 119\n",
      "capital.loss : is 92\n",
      "hours.per.week : is 94\n",
      "native.country : is 42\n",
      "income : is 2\n"
     ]
    }
   ],
   "source": [
    "def attributes():\n",
    "    print(\"Unique values in columns :\")\n",
    "    for col in df.columns:\n",
    "        print(f\"{col} : is {df[col].nunique()}\" )\n",
    "attributes()"
   ]
  },
  {
   "cell_type": "code",
   "execution_count": 11,
   "metadata": {},
   "outputs": [
    {
     "name": "stdout",
     "output_type": "stream",
     "text": [
      "Number of categorical variables:  8\n",
      "workclass 9  categories\n",
      "education 16  categories\n",
      "marital.status 7  categories\n",
      "occupation 15  categories\n",
      "relationship 6  categories\n",
      "race 5  categories\n",
      "sex 2  categories\n",
      "native.country 42  categories\n"
     ]
    }
   ],
   "source": [
    "def cardinality(df):\n",
    "    cat_vars = [var for var in df.columns if df[var].dtypes=='O']\n",
    "    print('Number of categorical variables: ', len(cat_vars))\n",
    "\n",
    "    for var in cat_vars:\n",
    "        print(var, len(df[var].unique()), ' categories')\n",
    "        \n",
    "cardinality(df)"
   ]
  },
  {
   "cell_type": "code",
   "execution_count": 12,
   "metadata": {},
   "outputs": [],
   "source": [
    "def undersample(dataframe, column, basis_col, count, sample_count):\n",
    "    \"\"\"\n",
    "    input:\n",
    "    dataframe: The dataframe to be sampled(Pandas DataFrame)\n",
    "    column: The column name based on which sampling is performed(String)\n",
    "    basis_col : Column using which stratified sampling is applied. Info will be retained even after undersampling.\n",
    "    count: The value count of individual data points inside the column under\n",
    "    consideration used as threshold (above which the rows will be discarded).\n",
    "    sample_count: The final sampled data count needed\n",
    "    output: Sampled Pandas DataDrame\n",
    "    Eg. undersample(df, \"Col of interest\", 1000, 200) # (DataFrame, column name, basis column for sampling, \n",
    "    value_count threshold, sampled count)\n",
    "    \n",
    "    \"\"\"\n",
    "    above = pd.DataFrame()\n",
    "    below = pd.DataFrame()\n",
    "    data = pd.DataFrame()\n",
    "    df = dataframe\n",
    "    col = column\n",
    "    \n",
    "    max_val = df[basis_col].value_counts().head(1).values[0]\n",
    "    n = min(max_val, df[basis_col].value_counts().min())\n",
    "    stratified = df.groupby(basis_col).apply(lambda x: x.sample(n))\n",
    "    stratified.index = stratified.index.droplevel(0)\n",
    "    \n",
    "    above_count = pd.DataFrame(df[col].value_counts() > count)\n",
    "    below_count = pd.DataFrame(df[col].value_counts() < count)\n",
    "    \n",
    "    to_sample = above_count[above_count[col] == True].index.tolist()\n",
    "    not_sample = below_count[below_count[col] == True].index.tolist()\n",
    "    \n",
    "    for val in to_sample: # Sample with the given sample_count value \n",
    "        above = above.append(df[df[col] == val].sample(n = sample_count, \n",
    "                                                       replace = True ,\n",
    "                                                       random_state=1))\n",
    "    \n",
    "    for val in not_sample:\n",
    "        below = below.append(df[df[col] == val]) # Without Sampling for values less than given count\n",
    "        \n",
    "    data = pd.concat([above, stratified, below])\n",
    "    return data\n",
    "\n",
    "df = undersample(df, \"income\", \"native.country\", 10000, 10000)"
   ]
  },
  {
   "cell_type": "code",
   "execution_count": 13,
   "metadata": {},
   "outputs": [
    {
     "data": {
      "image/png": "[encoded data removed]",
      "text/plain": [
       "<Figure size 720x576 with 1 Axes>"
      ]
     },
     "metadata": {
      "needs_background": "light"
     },
     "output_type": "display_data"
    }
   ],
   "source": [
    "value_count(df, \"income\")"
   ]
  },
  {
   "cell_type": "code",
   "execution_count": 14,
   "metadata": {},
   "outputs": [
    {
     "name": "stdout",
     "output_type": "stream",
     "text": [
      "Number of categorical variables:  8\n",
      "workclass 9  categories\n",
      "education 16  categories\n",
      "marital.status 7  categories\n",
      "occupation 15  categories\n",
      "relationship 6  categories\n",
      "race 5  categories\n",
      "sex 2  categories\n",
      "native.country 42  categories\n"
     ]
    }
   ],
   "source": [
    "cardinality(df) # Not a loss of categorical columns data"
   ]
  },
  {
   "cell_type": "code",
   "execution_count": 15,
   "metadata": {},
   "outputs": [],
   "source": [
    "def conf_matrix(y_test, pred, classes, lb):\n",
    "    \n",
    "    cm = confusion_matrix(y_test, pred)\n",
    "\n",
    "    recall = np.diag(cm) / np.sum(cm, axis = 1) # running horizontally across columns (axis 1)\n",
    "    precision = np.diag(cm) / np.sum(cm, axis = 0) # running vertically downwards across rows (axis 0)\n",
    "    score = (2*recall*precision)/(recall + precision) \n",
    "    \n",
    "    # Replacing NaN's by 0\n",
    "    recall = [0 if math.isnan(x) else x for x in recall]\n",
    "    precision = [0 if math.isnan(x) else x for x in precision]\n",
    "    score = [0 if math.isnan(x) else x for x in score]\n",
    "    \n",
    "    # Extracting class labels from label binarizer object\n",
    "    labels = classes\n",
    "    support = np.sum(cm, axis = 0)\n",
    "\n",
    "    df_recall = pd.DataFrame(recall, index = labels, columns = [\"Recall\"])\n",
    "    df_precision = pd.DataFrame(precision, index = labels, columns = [\"Precision\"])\n",
    "    df_acc = pd.DataFrame(score, index = labels, columns = [\"f1-Score\"])\n",
    "    df_support = pd.DataFrame(support, index = labels, columns = [\"Support\"])\n",
    "    \n",
    "    global acc\n",
    "    concat = [df_precision, df_recall, df_acc, df_support]\n",
    "    acc = pd.concat(concat, axis = 1)\n",
    "\n",
    "    print(acc)\n",
    "    print()\n",
    "    \n",
    "    tp = sum(np.diag(cm))\n",
    "    total = sum(cm.flatten())\n",
    "    accuracy = (tp/total)*100\n",
    "    print(\"Accuracy :\", accuracy)\n"
   ]
  },
  {
   "cell_type": "code",
   "execution_count": 16,
   "metadata": {},
   "outputs": [],
   "source": [
    "def roc_auc_metric(classes, y_test, predictions):\n",
    "    n_classes = len(classes)\n",
    "    \n",
    "    if n_classes == 2:\n",
    "        preprocess_pipeline = joblib.load(r\"preprocess_pipeline.pkl\")\n",
    "        probs = model.predict_proba(preprocess_pipeline.transform(X_test))\n",
    "        \n",
    "        # calculate scores\n",
    "        # generate a no skill prediction (majority class)\n",
    "        ns_probs = [0 for _ in range(len(y_test))]\n",
    "        ns_auc = roc_auc_score(y_test, ns_probs)\n",
    "        \n",
    "        # calculate roc curves\n",
    "        ns_fpr, ns_tpr, _ = roc_curve(y_test, ns_probs)\n",
    "        lr_fpr, lr_tpr, _ = roc_curve(y_test, probs)\n",
    "        \n",
    "        # plot the roc curve for the model\n",
    "        plt.figure(figsize=(8,6))\n",
    "        pyplot.plot(ns_fpr, ns_tpr, linestyle='--', label='No Skill')\n",
    "        pyplot.plot(lr_fpr, lr_tpr, marker='.', label='Binary Classification')\n",
    "        \n",
    "        # axis labels\n",
    "        pyplot.xlabel('False Positive Rate')\n",
    "        pyplot.ylabel('True Positive Rate')\n",
    "        # show the legend\n",
    "        pyplot.legend()\n",
    "        # show the plot\n",
    "        pyplot.show()\n",
    "        \n",
    "    else:\n",
    "        fpr = dict()\n",
    "        tpr = dict()\n",
    "        roc_auc = dict()\n",
    "        for i in range(n_classes):\n",
    "            fpr[i], tpr[i], _ = roc_curve(y_test[:, i], predictions[:, i])\n",
    "\n",
    "            roc_auc[i] = auc(fpr[i], tpr[i])\n",
    "\n",
    "        colors = cycle(['blue', 'red', 'green', 'magenta', 'cyan', 'yellow', 'black', 'white', '0.75', '#eeefff', '0.55'])\n",
    "\n",
    "        plt.figure(figsize=(14,12))\n",
    "        for i, color, cls in zip(range(n_classes), colors, classes):\n",
    "            plt.plot(fpr[i], tpr[i], linewidth = 3, color=color, label='ROC curve of class {0} (area = {1:0.2f})' ''.format(cls, roc_auc[i]))\n",
    "\n",
    "\n",
    "        plt.plot([0, 1], [0, 1], 'k--')\n",
    "        plt.xlim([-0.05, 1.0])\n",
    "        plt.ylim([0.0, 1.05])\n",
    "        plt.xlabel('False Positive Rate')\n",
    "        plt.ylabel('True Positive Rate')\n",
    "        plt.title('Receiver operating characteristic for multi-class data')\n",
    "        plt.legend(loc=\"lower right\")\n",
    "        plt.show()\n"
   ]
  },
  {
   "cell_type": "code",
   "execution_count": 17,
   "metadata": {},
   "outputs": [
    {
     "name": "stdout",
     "output_type": "stream",
     "text": [
      "C:\\Users\\abhishek_sharma39\\saved_model\\bayesian_nn_model.h5\n"
     ]
    }
   ],
   "source": [
    "from keras.callbacks import ModelCheckpoint, ReduceLROnPlateau, EarlyStopping\n",
    "\n",
    "import os \n",
    "\n",
    "save_dir = os.path.join(os.getcwd(), 'saved_model')\n",
    "model_name = 'bayesian_nn_model.h5'\n",
    "\n",
    "if not os.path.isdir(save_dir):\n",
    "    os.makedirs(save_dir)\n",
    "    \n",
    "filepath = os.path.join(save_dir,model_name)\n",
    "\n",
    "print(filepath)\n",
    "\n",
    "checkpoint = ModelCheckpoint(filepath=filepath,\n",
    "                             verbose=0,\n",
    "                             save_best_only=True)\n",
    "\n",
    "\n",
    "early_stopping = EarlyStopping(monitor='val_loss', patience=3, verbose=0, mode='auto')\n",
    "\n",
    "callbacks = [checkpoint, early_stopping]"
   ]
  },
  {
   "cell_type": "code",
   "execution_count": 18,
   "metadata": {},
   "outputs": [],
   "source": [
    "def plot_loss(history):\n",
    "    print(history.history.keys())\n",
    "    # summarize history for accuracy\n",
    "    plt.plot(history.history['accuracy'])\n",
    "    plt.plot(history.history['val_accuracy'])\n",
    "    plt.title('model accuracy')\n",
    "    plt.ylabel('accuracy')\n",
    "    plt.xlabel('epoch')\n",
    "    plt.legend(['train', 'test'], loc='upper left')\n",
    "    plt.show()\n",
    "\n",
    "    # summarize history for loss\n",
    "    plt.plot(history.history['loss'])\n",
    "    plt.plot(history.history['val_loss'])\n",
    "    plt.title('model loss')\n",
    "    plt.ylabel('loss')\n",
    "    plt.xlabel('epoch')\n",
    "    plt.legend(['train', 'test'], loc='upper left')\n",
    "    plt.show()"
   ]
  },
  {
   "cell_type": "code",
   "execution_count": 19,
   "metadata": {},
   "outputs": [],
   "source": [
    "def build_classifier(learning_rate=0.05, dropout_rate=0.2):\n",
    "    \n",
    "    # Model Building\n",
    "    opt = keras.optimizers.Adam(learning_rate = learning_rate)\n",
    "\n",
    "    model = Sequential() \n",
    "    model.add(Dense(512, activation='relu', input_dim = input_dim))\n",
    "    model.add(Dropout(dropout_rate))\n",
    "    model.add(BatchNormalization())\n",
    "    \n",
    "    model.add(Dense(128, activation='relu'))\n",
    "    model.add(Dropout(dropout_rate))\n",
    "    model.add(BatchNormalization())\n",
    "    \n",
    "    model.add(Dense(96, activation='relu'))\n",
    "    model.add(Dropout(dropout_rate))\n",
    "    model.add(BatchNormalization())\n",
    "    \n",
    "    model.add(Dense(units = num_classes, activation='sigmoid'))\n",
    "        \n",
    "    model.compile(optimizer = opt, loss = 'binary_crossentropy', \n",
    "                       metrics = ['accuracy'])\n",
    "\n",
    "    \n",
    "    return model"
   ]
  },
  {
   "cell_type": "code",
   "execution_count": 20,
   "metadata": {},
   "outputs": [
    {
     "name": "stdout",
     "output_type": "stream",
     "text": [
      "Number of categorical variables:  8\n",
      "workclass 9  categories\n",
      "education 16  categories\n",
      "marital.status 7  categories\n",
      "occupation 15  categories\n",
      "relationship 6  categories\n",
      "race 5  categories\n",
      "sex 2  categories\n",
      "native.country 42  categories\n"
     ]
    }
   ],
   "source": [
    "cardinality(df)"
   ]
  },
  {
   "cell_type": "code",
   "execution_count": 21,
   "metadata": {},
   "outputs": [
    {
     "name": "stdout",
     "output_type": "stream",
     "text": [
      "['workclass', 'education', 'marital.status', 'occupation', 'relationship', 'race', 'sex', 'native.country']\n"
     ]
    }
   ],
   "source": [
    "target = \"income\"\n",
    "cat_variables = [var for var in df.columns if df[var].dtype == 'O']\n",
    "cat_vars = [s for s in cat_variables if s != target]\n",
    "print(cat_vars)"
   ]
  },
  {
   "cell_type": "code",
   "execution_count": 22,
   "metadata": {},
   "outputs": [
    {
     "name": "stdout",
     "output_type": "stream",
     "text": [
      "['age', 'fnlwgt', 'education.num', 'capital.gain', 'capital.loss', 'hours.per.week']\n"
     ]
    }
   ],
   "source": [
    "num_variables = [var for var in df.columns if df[var].dtype != 'O']\n",
    "num_vars = [s for s in num_variables if s != target]\n",
    "print(num_vars)"
   ]
  },
  {
   "cell_type": "code",
   "execution_count": 23,
   "metadata": {},
   "outputs": [
    {
     "name": "stdout",
     "output_type": "stream",
     "text": [
      "['age', 'fnlwgt', 'education.num', 'capital.gain', 'capital.loss', 'hours.per.week', 'workclass', 'education', 'marital.status', 'occupation', 'relationship', 'race', 'sex', 'native.country']\n"
     ]
    }
   ],
   "source": [
    "labels = num_vars + cat_vars\n",
    "print(labels)"
   ]
  },
  {
   "cell_type": "code",
   "execution_count": 24,
   "metadata": {},
   "outputs": [],
   "source": [
    "def model_building(learning_rate, dropout_rate):\n",
    "    \n",
    "    global X_train, X_test, y_train, y_test, classes, lb, col_names, input_dim, X_train_preprocessed, preprocess_pipeline, optimizer\n",
    "    X_train, X_test, y_train, y_test, classes, lb, col_names = splitting(df, labels, target, split_ratio = 0.35)\n",
    "    \n",
    "    numeric_transformer = Pipeline(steps=[\n",
    "        ('imputer', SimpleImputer(strategy='median')),\n",
    "        ('scaler', StandardScaler())])\n",
    "\n",
    "    categorical_transformer = Pipeline(steps=[\n",
    "        ('imputer', SimpleImputer(strategy='constant', fill_value='missing')),\n",
    "        ('onehot', OneHotEncoder(handle_unknown='ignore'))])\n",
    "    \n",
    "    preprocess_pipeline = ColumnTransformer(\n",
    "        transformers=[\n",
    "            ('num', numeric_transformer, num_vars),\n",
    "            ('cat', categorical_transformer, cat_vars)])\n",
    "\n",
    "    \n",
    "    X_train_preprocessed = preprocess_pipeline.fit_transform(X_train)\n",
    "    \n",
    "    input_dim = X_train_preprocessed.shape[1]\n",
    "    \n",
    "    joblib.dump(preprocess_pipeline, 'preprocess_pipeline.pkl')\n",
    "    \n",
    "    classifier = KerasClassifier(build_fn = build_classifier, epochs=20, batch_size = 128)\n",
    "    \n",
    "    accuracies =  cross_val_score(estimator=classifier, X = X_train_preprocessed.toarray(), \n",
    "                                  y = y_train.ravel(), cv = 3, n_jobs = -1, \n",
    "                                  verbose=0, fit_params={'callbacks': [EarlyStopping()]})\n",
    "    \n",
    "    return accuracies.mean()\n"
   ]
  },
  {
   "cell_type": "code",
   "execution_count": 25,
   "metadata": {},
   "outputs": [],
   "source": [
    "def splitting(data, labels, target, split_ratio):\n",
    "    \n",
    "    X = data[labels]\n",
    "    y = data[target]\n",
    "    classes = np.unique(y) # Unique values for classes\n",
    "    \n",
    "    global num_classes\n",
    "    \n",
    "    if len(classes) == 2:\n",
    "        num_classes = 1 # For binary\n",
    "    else:\n",
    "        num_classes = len(classes) # For multiclass\n",
    "\n",
    "    X_train, X_test, y_train, y_test = train_test_split(X, y, stratify = y, test_size = split_ratio, random_state = 101)\n",
    "    \n",
    "    lb = LabelBinarizer(neg_label = 0, pos_label=1, sparse_output = False)\n",
    "    y_train = lb.fit_transform(y_train)\n",
    "    y_test = lb.transform(y_test)\n",
    "    \n",
    "    col_names = X_train.columns\n",
    "\n",
    "    return X_train, X_test, y_train, y_test, classes, lb, col_names\n"
   ]
  },
  {
   "cell_type": "code",
   "execution_count": 26,
   "metadata": {},
   "outputs": [],
   "source": [
    "def model_validator(model, X_test, y_test, classes, label_object):\n",
    "    \n",
    "    preprocess_pipeline = joblib.load(r\"preprocess_pipeline.pkl\")\n",
    "\n",
    "    predictions = model.predict(preprocess_pipeline.transform(X_test).toarray())\n",
    "\n",
    "    # Calculate roc auc\n",
    "    roc_value = roc_auc_score(y_test, predictions, multi_class='ovo', average = 'macro')\n",
    "    print()\n",
    "    print(\"The ROC-AUC of the model is:\", roc_value)\n",
    "    print()\n",
    "    print(\"Confusion Matrix:\")\n",
    "    conf_matrix(y_test, predictions, classes, label_object)\n"
   ]
  },
  {
   "cell_type": "code",
   "execution_count": 27,
   "metadata": {
    "scrolled": false
   },
   "outputs": [
    {
     "name": "stdout",
     "output_type": "stream",
     "text": [
      "|   iter    |  target   | dropou... | learni... |\n",
      "-------------------------------------------------\n",
      "|  1        |  0.8186   |  0.2668   |  0.007231 |\n",
      "|  2        |  0.8062   |  0.1      |  0.003093 |\n",
      "|  3        |  0.815    |  0.1587   |  0.001014 |\n",
      "|  4        |  0.8126   |  0.5      |  0.0001   |\n",
      "|  5        |  0.8002   |  0.3438   |  0.000113 |\n",
      "|  6        |  0.815    |  0.5      |  0.01     |\n",
      "|  7        |  0.8028   |  0.1802   |  0.01     |\n",
      "|  8        |  0.8123   |  0.2314   |  0.0001   |\n",
      "|  9        |  0.8127   |  0.4438   |  0.01     |\n",
      "|  10       |  0.8071   |  0.2837   |  0.0001   |\n",
      "=================================================\n",
      "Time taken for the process is 6.75904149611791 mins.\n"
     ]
    }
   ],
   "source": [
    "start = time.time()\n",
    "    \n",
    "# Bounded region of parameter space\n",
    "pbounds = {'dropout_rate' : (0.1, 0.5), 'learning_rate' : (1e-4, 1e-2)}\n",
    "gp_params = {\"alpha\": 1e-10}\n",
    "\n",
    "def invoke():\n",
    "    global optimizer\n",
    "    optimizer = BayesianOptimization(\n",
    "        f = model_building,\n",
    "        pbounds = pbounds,\n",
    "        random_state=1)\n",
    "\n",
    "    optimizer.maximize(init_points = 3, n_iter = 7, acq = 'ucb', kappa = 3, **gp_params)\n",
    "    \n",
    "invoke()\n",
    "stop = time.time()\n",
    "total_time = (stop - start)\n",
    "\n",
    "print(f\"Time taken for the process is {total_time/60} mins.\")\n"
   ]
  },
  {
   "cell_type": "code",
   "execution_count": 28,
   "metadata": {},
   "outputs": [],
   "source": [
    "params = optimizer.max['params']\n",
    "dropout_rate = params[\"dropout_rate\"]\n",
    "learning_rate = params[\"learning_rate\"]"
   ]
  },
  {
   "cell_type": "code",
   "execution_count": 29,
   "metadata": {
    "scrolled": false
   },
   "outputs": [
    {
     "name": "stdout",
     "output_type": "stream",
     "text": [
      "dict_keys(['val_loss', 'val_accuracy', 'loss', 'accuracy'])\n"
     ]
    },
    {
     "data": {
      "image/png": "[encoded data removed]",
      "text/plain": [
       "<Figure size 432x288 with 1 Axes>"
      ]
     },
     "metadata": {
      "needs_background": "light"
     },
     "output_type": "display_data"
    },
    {
     "data": {
      "image/png": "[encoded data removed]",
      "text/plain": [
       "<Figure size 432x288 with 1 Axes>"
      ]
     },
     "metadata": {
      "needs_background": "light"
     },
     "output_type": "display_data"
    }
   ],
   "source": [
    "global model\n",
    "model = Sequential() \n",
    "\n",
    "opt = keras.optimizers.Adam(learning_rate = learning_rate)\n",
    "    \n",
    "model.add(Dense(256, activation='relu', input_dim = input_dim))\n",
    "model.add(BatchNormalization())\n",
    "model.add(Dropout(dropout_rate))\n",
    "\n",
    "model.add(Dense(128, activation='relu'))\n",
    "model.add(BatchNormalization())\n",
    "model.add(Dropout(dropout_rate))\n",
    "\n",
    "model.add(Dense(96, activation='relu'))\n",
    "model.add(BatchNormalization())\n",
    "model.add(Dropout(dropout_rate))\n",
    "\n",
    "model.add(Dense(units = num_classes, activation='sigmoid'))\n",
    "\n",
    "model.compile(optimizer = opt, loss = 'binary_crossentropy', \n",
    "                   metrics = ['accuracy'])\n",
    "\n",
    "history = model.fit(X_train_preprocessed.toarray(), y_train, epochs = 50, \n",
    "          validation_data = (preprocess_pipeline.transform(X_test).toarray(), y_test), \n",
    "          callbacks = callbacks, batch_size = 128, verbose=0)\n",
    "\n",
    "# summarize history for accuracy\n",
    "plot_loss(history)"
   ]
  },
  {
   "cell_type": "code",
   "execution_count": 30,
   "metadata": {},
   "outputs": [
    {
     "name": "stdout",
     "output_type": "stream",
     "text": [
      "\n",
      "The ROC-AUC of the model is: 0.8144827764827764\n",
      "\n",
      "Confusion Matrix:\n",
      "   Precision    Recall  f1-Score  Support\n",
      "0  0.833662   0.843875  0.838737  3553   \n",
      "1  0.797562   0.785091  0.791277  2707   \n",
      "\n",
      "Accuracy : 81.80511182108626\n",
      "\n"
     ]
    },
    {
     "data": {
      "image/png": "[encoded data removed]",
      "text/plain": [
       "<Figure size 576x432 with 1 Axes>"
      ]
     },
     "metadata": {
      "needs_background": "light"
     },
     "output_type": "display_data"
    }
   ],
   "source": [
    "def model_validator(model, X_test, y_test, classes, label_object):\n",
    "    \n",
    "    preprocess_pipeline = joblib.load(r\"preprocess_pipeline.pkl\")\n",
    "\n",
    "    predictions = model.predict(preprocess_pipeline.transform(X_test))\n",
    "    \n",
    "    if num_classes == 1: # Classes is 2, var defined to be 1\n",
    "        predictions = predictions > 0.5\n",
    "\n",
    "    # Calculate roc auc\n",
    "    roc_value = roc_auc_score(y_test, predictions, multi_class='ovo', average = 'macro')\n",
    "    print()\n",
    "    print(\"The ROC-AUC of the model is:\", roc_value)\n",
    "    print()\n",
    "    print(\"Confusion Matrix:\")\n",
    "    conf_matrix(y_test, predictions, classes, label_object)\n",
    "    print()\n",
    "\n",
    "    roc_auc_metric(classes, y_test, predictions = model.predict(preprocess_pipeline.transform(X_test).toarray()))\n",
    "\n",
    "    \n",
    "model_validator(model, X_test, y_test, classes, lb)"
   ]
  },
  {
   "cell_type": "code",
   "execution_count": 31,
   "metadata": {},
   "outputs": [],
   "source": [
    "# set activation to be generic and loss too for tackling all classes"
   ]
  }
 ],
 "metadata": {
  "kernelspec": {
   "display_name": "Python 3",
   "language": "python",
   "name": "python3"
  },
  "language_info": {
   "codemirror_mode": {
    "name": "ipython",
    "version": 3
   },
   "file_extension": ".py",
   "mimetype": "text/x-python",
   "name": "python",
   "nbconvert_exporter": "python",
   "pygments_lexer": "ipython3",
   "version": "3.7.4"
  }
 },
 "nbformat": 4,
 "nbformat_minor": 2
}
