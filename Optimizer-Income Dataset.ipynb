{
 "cells": [
  {
   "cell_type": "code",
   "execution_count": 1,
   "id": "64ad06dd-f351-47d8-88b8-5d5885dd0e7d",
   "metadata": {},
   "outputs": [
    {
     "name": "stdout",
     "output_type": "stream",
     "text": [
      "Looking in indexes: https://artifacts.dell.com/artifactory/api/pypi/python/simple\n",
      "Collecting scikit-optimize\n",
      "  Using cached https://artifacts.dell.com/artifactory/api/pypi/python/packages/packages/55/f6/2d9efbd86126c40fe0f8a47611a9e2480b493b6f0ce9751bdf0240cfa091/scikit_optimize-0.9.0-py2.py3-none-any.whl (100 kB)\n",
      "Requirement already satisfied: joblib>=0.11 in /opt/conda/lib/python3.10/site-packages (from scikit-optimize) (1.1.0)\n",
      "Requirement already satisfied: numpy>=1.13.3 in /opt/conda/lib/python3.10/site-packages (from scikit-optimize) (1.22.4)\n",
      "Requirement already satisfied: scipy>=0.19.1 in /opt/conda/lib/python3.10/site-packages (from scikit-optimize) (1.9.0)\n",
      "Requirement already satisfied: scikit-learn>=0.20.0 in /opt/conda/lib/python3.10/site-packages (from scikit-optimize) (1.1.1)\n",
      "Collecting pyaml>=16.9\n",
      "  Using cached https://artifacts.dell.com/artifactory/api/pypi/python/packages/packages/35/fd/78a3a11c7b9b11878ebbf4461a09cbc758bdfc1b45168972727f7334b09a/pyaml-21.10.1-py2.py3-none-any.whl (24 kB)\n",
      "Requirement already satisfied: PyYAML in /opt/conda/lib/python3.10/site-packages (from pyaml>=16.9->scikit-optimize) (6.0)\n",
      "Requirement already satisfied: threadpoolctl>=2.0.0 in /opt/conda/lib/python3.10/site-packages (from scikit-learn>=0.20.0->scikit-optimize) (3.1.0)\n",
      "Installing collected packages: pyaml, scikit-optimize\n",
      "Successfully installed pyaml-21.10.1 scikit-optimize-0.9.0\n",
      "Looking in indexes: https://artifacts.dell.com/artifactory/api/pypi/python/simple\n",
      "Collecting tensorflow_hub==0.12.0\n",
      "  Using cached https://artifacts.dell.com/artifactory/api/pypi/python/packages/packages/29/32/899878aa65cae5429f30449cdda61224e3f4319e6a155027bc3af4c3f07b/tensorflow_hub-0.12.0-py2.py3-none-any.whl (108 kB)\n",
      "Requirement already satisfied: numpy>=1.12.0 in /opt/conda/lib/python3.10/site-packages (from tensorflow_hub==0.12.0) (1.22.4)\n",
      "Requirement already satisfied: protobuf>=3.8.0 in /opt/conda/lib/python3.10/site-packages (from tensorflow_hub==0.12.0) (3.20.1)\n",
      "Installing collected packages: tensorflow_hub\n",
      "Successfully installed tensorflow_hub-0.12.0\n",
      "Looking in indexes: https://artifacts.dell.com/artifactory/api/pypi/python/simple\n",
      "Collecting tf-models-official==2.9.0\n",
      "  Using cached https://artifacts.dell.com/artifactory/api/pypi/python/packages/packages/61/dd/5219d629cb5f107bb89a5f520fb61919b928d6501aad841a34ecbc24304d/tf_models_official-2.9.0-py2.py3-none-any.whl (2.0 MB)\n",
      "Collecting tensorflow-model-optimization>=0.4.1\n",
      "  Using cached https://artifacts.dell.com/artifactory/api/pypi/python/packages/packages/9c/0f/f592fb793fc83370fe84a43f8ba072b419bf2aa921e6dd7edebc3c82ba8a/tensorflow_model_optimization-0.7.3-py2.py3-none-any.whl (238 kB)\n",
      "Collecting kaggle>=1.3.9\n",
      "  Using cached kaggle-1.5.12-py3-none-any.whl\n",
      "Collecting pyyaml<6.0,>=5.1\n",
      "  Using cached PyYAML-5.4.1-cp310-cp310-linux_x86_64.whl\n",
      "Collecting tensorflow-text~=2.9.0\n",
      "  Using cached https://artifacts.dell.com/artifactory/api/pypi/python/packages/packages/16/71/706cc8cdce44b96ceb8452382e0537bee9e94ea49bdcebd00e6878e4afc3/tensorflow_text-2.9.0-cp310-cp310-manylinux_2_17_x86_64.manylinux2014_x86_64.whl (4.6 MB)\n",
      "Requirement already satisfied: numpy>=1.20 in /opt/conda/lib/python3.10/site-packages (from tf-models-official==2.9.0) (1.22.4)\n",
      "Requirement already satisfied: Pillow in /opt/conda/lib/python3.10/site-packages (from tf-models-official==2.9.0) (9.3.0)\n",
      "Collecting py-cpuinfo>=3.3.0\n",
      "  Using cached https://artifacts.dell.com/artifactory/api/pypi/python/packages/packages/e0/a9/023730ba63db1e494a271cb018dcd361bd2c917ba7004c3e49d5daf795a2/py_cpuinfo-9.0.0-py3-none-any.whl (22 kB)\n",
      "Requirement already satisfied: six in /opt/conda/lib/python3.10/site-packages (from tf-models-official==2.9.0) (1.16.0)\n",
      "Requirement already satisfied: tensorflow-hub>=0.6.0 in /opt/conda/lib/python3.10/site-packages (from tf-models-official==2.9.0) (0.12.0)\n",
      "Requirement already satisfied: psutil>=5.4.3 in /opt/conda/lib/python3.10/site-packages (from tf-models-official==2.9.0) (5.9.1)\n",
      "Collecting sentencepiece\n",
      "  Using cached https://artifacts.dell.com/artifactory/api/pypi/python/packages/packages/40/e0/ed30ef89551443c9e7a7e8844727c064294e28836c6ca1a4452283077b46/sentencepiece-0.1.97-cp310-cp310-manylinux_2_17_x86_64.manylinux2014_x86_64.whl (1.3 MB)\n",
      "Collecting sacrebleu\n",
      "  Using cached https://artifacts.dell.com/artifactory/api/pypi/python/packages/packages/30/09/986d4df9ab18e7b12c145851491c89df4ef90f0d380f62bf4490aeb642a4/sacrebleu-2.3.1-py3-none-any.whl (118 kB)\n",
      "Collecting seqeval\n",
      "  Using cached seqeval-1.2.2-py3-none-any.whl\n",
      "Collecting gin-config\n",
      "  Using cached https://artifacts.dell.com/artifactory/api/pypi/python/packages/packages/11/8f/9f1894efa1bb15e98613244b24dfbacfe2309e0ac3cfc27d4c608c2270d2/gin_config-0.5.0-py3-none-any.whl (61 kB)\n",
      "Requirement already satisfied: matplotlib in /opt/conda/lib/python3.10/site-packages (from tf-models-official==2.9.0) (3.5.2)\n",
      "Collecting pycocotools\n",
      "  Using cached pycocotools-2.0.6-cp310-cp310-linux_x86_64.whl\n",
      "Collecting tensorflow-addons\n",
      "  Using cached https://artifacts.dell.com/artifactory/api/pypi/python/packages/packages/3d/3e/a802c3e02a9253eabf73a6bbc7fcdbfc7d47baaf98833965ce75f5287a3b/tensorflow_addons-0.19.0-cp310-cp310-manylinux_2_17_x86_64.manylinux2014_x86_64.whl (1.1 MB)\n",
      "Collecting opencv-python-headless\n",
      "  Using cached https://artifacts.dell.com/artifactory/api/pypi/python/packages/packages/ef/d2/8ad06cc8e04d632dec53ab082376c09412fad29404c16a837166d3e621ec/opencv_python_headless-4.7.0.68-cp37-abi3-manylinux_2_17_x86_64.manylinux2014_x86_64.whl (49.2 MB)\n",
      "Requirement already satisfied: Cython in /opt/conda/lib/python3.10/site-packages (from tf-models-official==2.9.0) (0.29.32)\n",
      "Requirement already satisfied: pandas>=0.22.0 in /opt/conda/lib/python3.10/site-packages (from tf-models-official==2.9.0) (1.4.3)\n",
      "Collecting google-api-python-client>=1.6.7\n",
      "  Using cached https://artifacts.dell.com/artifactory/api/pypi/python/packages/packages/f9/41/94b4b932e38b5568c08819fd13807825c39fd502b2436a7d1d444bc150d5/google_api_python_client-2.78.0-py2.py3-none-any.whl (11.0 MB)\n",
      "Requirement already satisfied: scipy>=0.19.1 in /opt/conda/lib/python3.10/site-packages (from tf-models-official==2.9.0) (1.9.0)\n",
      "Collecting tensorflow-datasets\n",
      "  Using cached https://artifacts.dell.com/artifactory/api/pypi/python/packages/packages/c2/2a/c1aa78b0211b1e3f6439d4edabd44bfb6e1c45544a7a241e3ba5cfe3c316/tensorflow_datasets-4.8.2-py3-none-any.whl (5.3 MB)\n",
      "Collecting tensorflow~=2.9.0\n",
      "  Using cached https://artifacts.dell.com/artifactory/api/pypi/python/packages/packages/47/be/71409bd5a941c89e1ae993eeaa8393ead2b65a79ae99a6573023ae839053/tensorflow-2.9.3-cp310-cp310-manylinux_2_17_x86_64.manylinux2014_x86_64.whl (511.8 MB)\n",
      "Collecting oauth2client\n",
      "  Using cached https://artifacts.dell.com/artifactory/api/pypi/python/packages/packages/95/a9/4f25a14d23f0786b64875b91784607c2277eff25d48f915e39ff0cff505a/oauth2client-4.1.3-py2.py3-none-any.whl (98 kB)\n",
      "Collecting tf-slim>=1.1.0\n",
      "  Using cached https://artifacts.dell.com/artifactory/api/pypi/python/packages/packages/02/97/b0f4a64df018ca018cc035d44f2ef08f91e2e8aa67271f6f19633a015ff7/tf_slim-1.1.0-py2.py3-none-any.whl (352 kB)\n",
      "Requirement already satisfied: google-auth<3.0.0dev,>=1.19.0 in /opt/conda/lib/python3.10/site-packages (from google-api-python-client>=1.6.7->tf-models-official==2.9.0) (2.14.1)\n",
      "Collecting google-api-core!=2.0.*,!=2.1.*,!=2.2.*,!=2.3.0,<3.0.0dev,>=1.31.5\n",
      "  Using cached https://artifacts.dell.com/artifactory/api/pypi/python/packages/packages/f7/24/a17e75c733609dce285a2dae6f56837d69a9566963c9d1cab96d788546c8/google_api_core-2.11.0-py3-none-any.whl (120 kB)\n",
      "Collecting google-auth-httplib2>=0.1.0\n",
      "  Using cached https://artifacts.dell.com/artifactory/api/pypi/python/packages/packages/ba/db/721e2f3f32339080153995d16e46edc3a7657251f167ddcb9327e632783b/google_auth_httplib2-0.1.0-py2.py3-none-any.whl (9.3 kB)\n",
      "Collecting uritemplate<5,>=3.0.1\n",
      "  Using cached https://artifacts.dell.com/artifactory/api/pypi/python/packages/packages/81/c0/7461b49cd25aeece13766f02ee576d1db528f1c37ce69aee300e075b485b/uritemplate-4.1.1-py2.py3-none-any.whl (10 kB)\n",
      "Collecting httplib2<1dev,>=0.15.0\n",
      "  Using cached https://artifacts.dell.com/artifactory/api/pypi/python/packages/packages/31/c9/4720a06cc961415e49735e672071b1da1621a347e14a9b1f3728a59a2cbd/httplib2-0.21.0-py3-none-any.whl (96 kB)\n",
      "Requirement already satisfied: tqdm in /opt/conda/lib/python3.10/site-packages (from kaggle>=1.3.9->tf-models-official==2.9.0) (4.64.0)\n",
      "Requirement already satisfied: certifi in /opt/conda/lib/python3.10/site-packages (from kaggle>=1.3.9->tf-models-official==2.9.0) (2022.9.24)\n",
      "Requirement already satisfied: urllib3 in /opt/conda/lib/python3.10/site-packages (from kaggle>=1.3.9->tf-models-official==2.9.0) (1.26.11)\n",
      "Requirement already satisfied: python-dateutil in /opt/conda/lib/python3.10/site-packages (from kaggle>=1.3.9->tf-models-official==2.9.0) (2.8.2)\n",
      "Requirement already satisfied: requests in /opt/conda/lib/python3.10/site-packages (from kaggle>=1.3.9->tf-models-official==2.9.0) (2.28.1)\n",
      "Collecting python-slugify\n",
      "  Using cached https://artifacts.dell.com/artifactory/api/pypi/python/packages/packages/3b/0e/95f48766da1472daa32b50eecbd444bfffda6d451669d27d1d8d56392487/python_slugify-8.0.0-py2.py3-none-any.whl (9.5 kB)\n",
      "Requirement already satisfied: pytz>=2020.1 in /opt/conda/lib/python3.10/site-packages (from pandas>=0.22.0->tf-models-official==2.9.0) (2022.1)\n",
      "Collecting libclang>=13.0.0\n",
      "  Using cached https://artifacts.dell.com/artifactory/api/pypi/python/packages/packages/bd/ec/55f01bbee070d574c47bb602d8dc17ac3b804e007d4949a8b414e75b7812/libclang-15.0.6.1-py2.py3-none-manylinux2010_x86_64.whl (21.5 MB)\n",
      "Collecting tensorflow-io-gcs-filesystem>=0.23.1\n",
      "  Using cached https://artifacts.dell.com/artifactory/api/pypi/python/packages/packages/c9/4b/b54d70e3ebdf66773629911098cd1e4117d74d75e62ad0521b53305a8bbe/tensorflow_io_gcs_filesystem-0.30.0-cp310-cp310-manylinux_2_12_x86_64.manylinux2010_x86_64.whl (2.4 MB)\n",
      "Requirement already satisfied: grpcio<2.0,>=1.24.3 in /opt/conda/lib/python3.10/site-packages (from tensorflow~=2.9.0->tf-models-official==2.9.0) (1.50.0)\n",
      "Requirement already satisfied: absl-py>=1.0.0 in /opt/conda/lib/python3.10/site-packages (from tensorflow~=2.9.0->tf-models-official==2.9.0) (1.3.0)\n",
      "Collecting tensorboard<2.10,>=2.9\n",
      "  Using cached https://artifacts.dell.com/artifactory/api/pypi/python/packages/packages/ee/0d/23812e6ce63b3d87c39bc9fee83e28c499052fa83fddddd7daea21a6d620/tensorboard-2.9.1-py3-none-any.whl (5.8 MB)\n",
      "Requirement already satisfied: wrapt>=1.11.0 in /opt/conda/lib/python3.10/site-packages (from tensorflow~=2.9.0->tf-models-official==2.9.0) (1.14.1)\n",
      "Collecting astunparse>=1.6.0\n",
      "  Using cached https://artifacts.dell.com/artifactory/api/pypi/python/packages/packages/2b/03/13dde6512ad7b4557eb792fbcf0c653af6076b81e5941d36ec61f7ce6028/astunparse-1.6.3-py2.py3-none-any.whl (12 kB)\n",
      "Requirement already satisfied: typing-extensions>=3.6.6 in /opt/conda/lib/python3.10/site-packages (from tensorflow~=2.9.0->tf-models-official==2.9.0) (4.3.0)\n",
      "Collecting flatbuffers<2,>=1.12\n",
      "  Using cached https://artifacts.dell.com/artifactory/api/pypi/python/packages/packages/eb/26/712e578c5f14e26ae3314c39a1bdc4eb2ec2f4ddc89b708cf8e0a0d20423/flatbuffers-1.12-py2.py3-none-any.whl (15 kB)\n",
      "Requirement already satisfied: packaging in /opt/conda/lib/python3.10/site-packages (from tensorflow~=2.9.0->tf-models-official==2.9.0) (21.3)\n",
      "Collecting protobuf<3.20,>=3.9.2\n",
      "  Using cached https://artifacts.dell.com/artifactory/api/pypi/python/packages/packages/26/ef/bd6ba3b4ff9a35944bdd325e2c9ee56f71e855757f7d43938232499f0278/protobuf-3.19.6-cp310-cp310-manylinux_2_17_x86_64.manylinux2014_x86_64.whl (1.1 MB)\n",
      "Requirement already satisfied: h5py>=2.9.0 in /opt/conda/lib/python3.10/site-packages (from tensorflow~=2.9.0->tf-models-official==2.9.0) (3.7.0)\n",
      "Collecting keras<2.10.0,>=2.9.0rc0\n",
      "  Using cached https://artifacts.dell.com/artifactory/api/pypi/python/packages/packages/ff/ff/f25909606aed26981a8bd6d263f89d64a20ca5e5316e6aafb4c75d9ec8ae/keras-2.9.0-py2.py3-none-any.whl (1.6 MB)\n",
      "Collecting termcolor>=1.1.0\n",
      "  Using cached https://artifacts.dell.com/artifactory/api/pypi/python/packages/packages/aa/f4/8ddd8a684b4c005345f45740a449d93d0af7ccecd91319d0f4426cf08b36/termcolor-2.2.0-py3-none-any.whl (6.6 kB)\n",
      "Requirement already satisfied: setuptools in /opt/conda/lib/python3.10/site-packages (from tensorflow~=2.9.0->tf-models-official==2.9.0) (63.2.0)\n",
      "Collecting keras-preprocessing>=1.1.1\n",
      "  Using cached https://artifacts.dell.com/artifactory/api/pypi/python/packages/packages/79/4c/7c3275a01e12ef9368a892926ab932b33bb13d55794881e3573482b378a7/Keras_Preprocessing-1.1.2-py2.py3-none-any.whl (42 kB)\n",
      "Collecting google-pasta>=0.1.1\n",
      "  Using cached https://artifacts.dell.com/artifactory/api/pypi/python/packages/packages/a3/de/c648ef6835192e6e2cc03f40b19eeda4382c49b5bafb43d88b931c4c74ac/google_pasta-0.2.0-py3-none-any.whl (57 kB)\n",
      "Collecting tensorflow-estimator<2.10.0,>=2.9.0rc0\n",
      "  Using cached https://artifacts.dell.com/artifactory/api/pypi/python/packages/packages/61/e1/a72ec68403d91ba433018db58859fd4706642aa9d0fb44ff778934fc4c2c/tensorflow_estimator-2.9.0-py2.py3-none-any.whl (438 kB)\n",
      "Collecting gast<=0.4.0,>=0.2.1\n",
      "  Using cached https://artifacts.dell.com/artifactory/api/pypi/python/packages/packages/b6/48/583c032b79ae5b3daa02225a675aeb673e58d2cb698e78510feceb11958c/gast-0.4.0-py3-none-any.whl (9.8 kB)\n",
      "Collecting opt-einsum>=2.3.2\n",
      "  Using cached https://artifacts.dell.com/artifactory/api/pypi/python/packages/packages/bc/19/404708a7e54ad2798907210462fd950c3442ea51acc8790f3da48d2bee8b/opt_einsum-3.3.0-py3-none-any.whl (65 kB)\n",
      "Collecting dm-tree~=0.1.1\n",
      "  Using cached https://artifacts.dell.com/artifactory/api/pypi/python/packages/packages/cc/2b/a13e3a44f9121ecab0057af462baeb64dc50eb269de52648db8823bc12ae/dm_tree-0.1.8-cp310-cp310-manylinux_2_17_x86_64.manylinux2014_x86_64.whl (152 kB)\n",
      "Requirement already satisfied: fonttools>=4.22.0 in /opt/conda/lib/python3.10/site-packages (from matplotlib->tf-models-official==2.9.0) (4.34.4)\n",
      "Requirement already satisfied: pyparsing>=2.2.1 in /opt/conda/lib/python3.10/site-packages (from matplotlib->tf-models-official==2.9.0) (3.0.9)\n",
      "Requirement already satisfied: cycler>=0.10 in /opt/conda/lib/python3.10/site-packages (from matplotlib->tf-models-official==2.9.0) (0.11.0)\n",
      "Requirement already satisfied: kiwisolver>=1.0.1 in /opt/conda/lib/python3.10/site-packages (from matplotlib->tf-models-official==2.9.0) (1.4.4)\n",
      "Requirement already satisfied: pyasn1-modules>=0.0.5 in /opt/conda/lib/python3.10/site-packages (from oauth2client->tf-models-official==2.9.0) (0.2.8)\n",
      "Requirement already satisfied: pyasn1>=0.1.7 in /opt/conda/lib/python3.10/site-packages (from oauth2client->tf-models-official==2.9.0) (0.4.8)\n",
      "Requirement already satisfied: rsa>=3.1.4 in /opt/conda/lib/python3.10/site-packages (from oauth2client->tf-models-official==2.9.0) (4.9)\n",
      "Collecting tabulate>=0.8.9\n",
      "  Using cached https://artifacts.dell.com/artifactory/api/pypi/python/packages/packages/40/44/4a5f08c96eb108af5cb50b41f76142f0afa346dfa99d5296fe7202a11854/tabulate-0.9.0-py3-none-any.whl (35 kB)\n",
      "Collecting portalocker\n",
      "  Using cached https://artifacts.dell.com/artifactory/api/pypi/python/packages/packages/8c/df/d4f711d168524f5aebd7fb30969eaa31e3048cf8979688cde3b08f6e5eb8/portalocker-2.7.0-py2.py3-none-any.whl (15 kB)\n",
      "Collecting regex\n",
      "  Using cached https://artifacts.dell.com/artifactory/api/pypi/python/packages/packages/be/d3/7e334b8bc597dea6200f7bb969fc693d4c71c4a395750e28d09c8e5a8104/regex-2022.10.31-cp310-cp310-manylinux_2_17_x86_64.manylinux2014_x86_64.whl (770 kB)\n",
      "Collecting lxml\n",
      "  Using cached https://artifacts.dell.com/artifactory/api/pypi/python/packages/packages/89/9c/be3ebeb6053c6625c0497f282e0d8acc36c309212d47201e9cb1198ffb54/lxml-4.9.2-cp310-cp310-manylinux_2_17_x86_64.manylinux2014_x86_64.manylinux_2_24_x86_64.whl (7.1 MB)\n",
      "Requirement already satisfied: colorama in /opt/conda/lib/python3.10/site-packages (from sacrebleu->tf-models-official==2.9.0) (0.4.5)\n",
      "Requirement already satisfied: scikit-learn>=0.21.3 in /opt/conda/lib/python3.10/site-packages (from seqeval->tf-models-official==2.9.0) (1.1.1)\n",
      "Collecting typeguard>=2.7\n",
      "  Using cached https://artifacts.dell.com/artifactory/api/pypi/python/packages/packages/9a/bb/d43e5c75054e53efce310e79d63df0ac3f25e34c926be5dffb7d283fb2a8/typeguard-2.13.3-py3-none-any.whl (17 kB)\n",
      "Collecting etils[enp,epath]>=0.9.0\n",
      "  Using cached https://artifacts.dell.com/artifactory/api/pypi/python/packages/packages/70/47/95f2495734007d0795017a6dbc5c99bcc62445de862f859204bf3b41fa9f/etils-1.0.0-py3-none-any.whl (146 kB)\n",
      "Collecting promise\n",
      "  Using cached promise-2.3-py3-none-any.whl\n",
      "Collecting tensorflow-metadata\n",
      "  Using cached https://artifacts.dell.com/artifactory/api/pypi/python/packages/packages/7e/cb/1a1dd9e8495d3932c056120127d18695bca50c2f754013b6bf0d51557c47/tensorflow_metadata-1.12.0-py3-none-any.whl (52 kB)\n",
      "Requirement already satisfied: dill in /opt/conda/lib/python3.10/site-packages (from tensorflow-datasets->tf-models-official==2.9.0) (0.3.5.1)\n",
      "Collecting toml\n",
      "  Using cached https://artifacts.dell.com/artifactory/api/pypi/python/packages/packages/44/6f/7120676b6d73228c96e17f1f794d8ab046fc910d781c8d151120c3f1569e/toml-0.10.2-py2.py3-none-any.whl (16 kB)\n",
      "Requirement already satisfied: click in /opt/conda/lib/python3.10/site-packages (from tensorflow-datasets->tf-models-official==2.9.0) (8.1.3)\n",
      "Requirement already satisfied: wheel<1.0,>=0.23.0 in /opt/conda/lib/python3.10/site-packages (from astunparse>=1.6.0->tensorflow~=2.9.0->tf-models-official==2.9.0) (0.37.1)\n",
      "Requirement already satisfied: importlib_resources in /opt/conda/lib/python3.10/site-packages (from etils[enp,epath]>=0.9.0->tensorflow-datasets->tf-models-official==2.9.0) (5.9.0)\n",
      "Requirement already satisfied: zipp in /opt/conda/lib/python3.10/site-packages (from etils[enp,epath]>=0.9.0->tensorflow-datasets->tf-models-official==2.9.0) (3.8.0)\n",
      "Collecting googleapis-common-protos<2.0dev,>=1.56.2\n",
      "  Using cached https://artifacts.dell.com/artifactory/api/pypi/python/packages/packages/32/4e/ed585842aaa704d87495a0e99317aaa44c5007a597c05b995fa8cfc4dfbe/googleapis_common_protos-1.58.0-py2.py3-none-any.whl (223 kB)\n",
      "Requirement already satisfied: cachetools<6.0,>=2.0.0 in /opt/conda/lib/python3.10/site-packages (from google-auth<3.0.0dev,>=1.19.0->google-api-python-client>=1.6.7->tf-models-official==2.9.0) (5.2.0)\n",
      "Requirement already satisfied: charset-normalizer<3,>=2 in /opt/conda/lib/python3.10/site-packages (from requests->kaggle>=1.3.9->tf-models-official==2.9.0) (2.1.0)\n",
      "Requirement already satisfied: idna<4,>=2.5 in /opt/conda/lib/python3.10/site-packages (from requests->kaggle>=1.3.9->tf-models-official==2.9.0) (3.3)\n",
      "Requirement already satisfied: threadpoolctl>=2.0.0 in /opt/conda/lib/python3.10/site-packages (from scikit-learn>=0.21.3->seqeval->tf-models-official==2.9.0) (3.1.0)\n",
      "Requirement already satisfied: joblib>=1.0.0 in /opt/conda/lib/python3.10/site-packages (from scikit-learn>=0.21.3->seqeval->tf-models-official==2.9.0) (1.1.0)\n",
      "Requirement already satisfied: tensorboard-plugin-wit>=1.6.0 in /opt/conda/lib/python3.10/site-packages (from tensorboard<2.10,>=2.9->tensorflow~=2.9.0->tf-models-official==2.9.0) (1.8.1)\n",
      "Requirement already satisfied: markdown>=2.6.8 in /opt/conda/lib/python3.10/site-packages (from tensorboard<2.10,>=2.9->tensorflow~=2.9.0->tf-models-official==2.9.0) (3.4.1)\n",
      "Requirement already satisfied: google-auth-oauthlib<0.5,>=0.4.1 in /opt/conda/lib/python3.10/site-packages (from tensorboard<2.10,>=2.9->tensorflow~=2.9.0->tf-models-official==2.9.0) (0.4.6)\n",
      "Requirement already satisfied: werkzeug>=1.0.1 in /opt/conda/lib/python3.10/site-packages (from tensorboard<2.10,>=2.9->tensorflow~=2.9.0->tf-models-official==2.9.0) (2.2.2)\n",
      "Requirement already satisfied: tensorboard-data-server<0.7.0,>=0.6.0 in /opt/conda/lib/python3.10/site-packages (from tensorboard<2.10,>=2.9->tensorflow~=2.9.0->tf-models-official==2.9.0) (0.6.1)\n",
      "Collecting text-unidecode>=1.3\n",
      "  Using cached https://artifacts.dell.com/artifactory/api/pypi/python/packages/packages/a6/a5/c0b6468d3824fe3fde30dbb5e1f687b291608f9473681bbf7dabbf5a87d7/text_unidecode-1.3-py2.py3-none-any.whl (78 kB)\n",
      "Requirement already satisfied: requests-oauthlib>=0.7.0 in /opt/conda/lib/python3.10/site-packages (from google-auth-oauthlib<0.5,>=0.4.1->tensorboard<2.10,>=2.9->tensorflow~=2.9.0->tf-models-official==2.9.0) (1.3.1)\n",
      "Requirement already satisfied: MarkupSafe>=2.1.1 in /opt/conda/lib/python3.10/site-packages (from werkzeug>=1.0.1->tensorboard<2.10,>=2.9->tensorflow~=2.9.0->tf-models-official==2.9.0) (2.1.1)\n",
      "Requirement already satisfied: oauthlib>=3.0.0 in /opt/conda/lib/python3.10/site-packages (from requests-oauthlib>=0.7.0->google-auth-oauthlib<0.5,>=0.4.1->tensorboard<2.10,>=2.9->tensorflow~=2.9.0->tf-models-official==2.9.0) (3.2.0)\n",
      "Installing collected packages: text-unidecode, sentencepiece, py-cpuinfo, libclang, keras, gin-config, flatbuffers, dm-tree, uritemplate, typeguard, toml, tf-slim, termcolor, tensorflow-model-optimization, tensorflow-io-gcs-filesystem, tensorflow-estimator, tabulate, regex, pyyaml, python-slugify, protobuf, promise, portalocker, opt-einsum, opencv-python-headless, lxml, keras-preprocessing, httplib2, google-pasta, gast, etils, astunparse, tensorflow-addons, sacrebleu, oauth2client, kaggle, googleapis-common-protos, tensorflow-metadata, seqeval, pycocotools, google-auth-httplib2, google-api-core, tensorflow-datasets, tensorboard, google-api-python-client, tensorflow, tensorflow-text, tf-models-official\n",
      "  Attempting uninstall: pyyaml\n",
      "    Found existing installation: PyYAML 6.0\n",
      "    Uninstalling PyYAML-6.0:\n",
      "      Successfully uninstalled PyYAML-6.0\n",
      "  Attempting uninstall: protobuf\n",
      "    Found existing installation: protobuf 3.20.1\n",
      "    Uninstalling protobuf-3.20.1:\n",
      "      Successfully uninstalled protobuf-3.20.1\n",
      "  Attempting uninstall: tensorboard\n",
      "    Found existing installation: tensorboard 2.11.0\n",
      "    Uninstalling tensorboard-2.11.0:\n",
      "      Successfully uninstalled tensorboard-2.11.0\n",
      "Successfully installed astunparse-1.6.3 dm-tree-0.1.8 etils-1.0.0 flatbuffers-1.12 gast-0.4.0 gin-config-0.5.0 google-api-core-2.11.0 google-api-python-client-2.78.0 google-auth-httplib2-0.1.0 google-pasta-0.2.0 googleapis-common-protos-1.58.0 httplib2-0.21.0 kaggle-1.5.12 keras-2.9.0 keras-preprocessing-1.1.2 libclang-15.0.6.1 lxml-4.9.2 oauth2client-4.1.3 opencv-python-headless-4.7.0.68 opt-einsum-3.3.0 portalocker-2.7.0 promise-2.3 protobuf-3.19.6 py-cpuinfo-9.0.0 pycocotools-2.0.6 python-slugify-8.0.0 pyyaml-5.4.1 regex-2022.10.31 sacrebleu-2.3.1 sentencepiece-0.1.97 seqeval-1.2.2 tabulate-0.9.0 tensorboard-2.9.1 tensorflow-2.9.3 tensorflow-addons-0.19.0 tensorflow-datasets-4.8.2 tensorflow-estimator-2.9.0 tensorflow-io-gcs-filesystem-0.30.0 tensorflow-metadata-1.12.0 tensorflow-model-optimization-0.7.3 tensorflow-text-2.9.0 termcolor-2.2.0 text-unidecode-1.3 tf-models-official-2.9.0 tf-slim-1.1.0 toml-0.10.2 typeguard-2.13.3 uritemplate-4.1.1\n"
     ]
    }
   ],
   "source": [
    "!pip install scikit-optimize\n",
    "!pip install tensorflow_hub==0.12.0\n",
    "!pip install tf-models-official==2.9.0"
   ]
  },
  {
   "cell_type": "code",
   "execution_count": 2,
   "id": "a0db0a93-a6bd-45db-913d-550e25853d81",
   "metadata": {},
   "outputs": [
    {
     "name": "stderr",
     "output_type": "stream",
     "text": [
      "2023-02-20 19:08:08.188137: W tensorflow/stream_executor/platform/default/dso_loader.cc:64] Could not load dynamic library 'libcudart.so.11.0'; dlerror: libcudart.so.11.0: cannot open shared object file: No such file or directory; LD_LIBRARY_PATH: :/home/dell/.local/lib:/opt/microsoft/jdbc:/opt/oracle/odbc:/opt/oracle/jdbc11:/usr/share/java/:/opt/teradata/jdbc:/opt/cloudera/hiveodbc/lib/64/:/opt/cloudera/hivejdbc/:/opt/EXASOL_JDBC-7.1.10\n",
      "2023-02-20 19:08:08.188185: I tensorflow/stream_executor/cuda/cudart_stub.cc:29] Ignore above cudart dlerror if you do not have a GPU set up on your machine.\n"
     ]
    }
   ],
   "source": [
    "from functools import partial\n",
    "import pandas as pd\n",
    "import seaborn as sns\n",
    "import math\n",
    "import numpy as np\n",
    "\n",
    "from numpy.ma import MaskedArray\n",
    "import sklearn.utils.fixes\n",
    "sklearn.utils.fixes.MaskedArray = MaskedArray\n",
    "from skopt import gp_minimize, Optimizer, space\n",
    "\n",
    "from sklearn.model_selection import train_test_split\n",
    "from sklearn.preprocessing import LabelEncoder, LabelBinarizer, OrdinalEncoder, OneHotEncoder\n",
    "from sklearn.feature_selection import SelectKBest, f_classif, chi2\n",
    "from sklearn.compose import ColumnTransformer\n",
    "from sklearn.feature_extraction.text import CountVectorizer, TfidfVectorizer\n",
    "from sklearn.preprocessing import OneHotEncoder\n",
    "from sklearn.pipeline import make_pipeline\n",
    "from sklearn.pipeline import Pipeline\n",
    "\n",
    "from sklearn.metrics import roc_curve, auc\n",
    "from itertools import cycle\n",
    "import joblib\n",
    "from sklearn.impute import SimpleImputer\n",
    "from sklearn.preprocessing import StandardScaler\n",
    "from tensorflow import keras\n",
    "from keras.wrappers.scikit_learn import KerasClassifier\n",
    "from sklearn.model_selection import cross_val_score\n",
    "\n",
    "from keras.layers import BatchNormalization\n",
    "from keras.callbacks import EarlyStopping\n",
    "from keras.models import Sequential\n",
    "from keras.layers import Dense, Dropout\n",
    "from sklearn.model_selection import GridSearchCV\n",
    "from keras.wrappers.scikit_learn import KerasClassifier"
   ]
  },
  {
   "cell_type": "code",
   "execution_count": 3,
   "id": "125af217-cf35-478f-a330-27fb3212cef4",
   "metadata": {},
   "outputs": [
    {
     "data": {
      "text/html": [
       "<div>\n",
       "<style scoped>\n",
       "    .dataframe tbody tr th:only-of-type {\n",
       "        vertical-align: middle;\n",
       "    }\n",
       "\n",
       "    .dataframe tbody tr th {\n",
       "        vertical-align: top;\n",
       "    }\n",
       "\n",
       "    .dataframe thead th {\n",
       "        text-align: right;\n",
       "    }\n",
       "</style>\n",
       "<table border=\"1\" class=\"dataframe\">\n",
       "  <thead>\n",
       "    <tr style=\"text-align: right;\">\n",
       "      <th></th>\n",
       "      <th>age</th>\n",
       "      <th>workclass</th>\n",
       "      <th>fnlwgt</th>\n",
       "      <th>education</th>\n",
       "      <th>educational-num</th>\n",
       "      <th>marital-status</th>\n",
       "      <th>occupation</th>\n",
       "      <th>relationship</th>\n",
       "      <th>race</th>\n",
       "      <th>gender</th>\n",
       "      <th>capital-gain</th>\n",
       "      <th>capital-loss</th>\n",
       "      <th>hours-per-week</th>\n",
       "      <th>native-country</th>\n",
       "      <th>income</th>\n",
       "    </tr>\n",
       "  </thead>\n",
       "  <tbody>\n",
       "    <tr>\n",
       "      <th>0</th>\n",
       "      <td>25</td>\n",
       "      <td>Private</td>\n",
       "      <td>226802</td>\n",
       "      <td>11th</td>\n",
       "      <td>7</td>\n",
       "      <td>Never-married</td>\n",
       "      <td>Machine-op-inspct</td>\n",
       "      <td>Own-child</td>\n",
       "      <td>Black</td>\n",
       "      <td>Male</td>\n",
       "      <td>0</td>\n",
       "      <td>0</td>\n",
       "      <td>40</td>\n",
       "      <td>United-States</td>\n",
       "      <td>&lt;=50K</td>\n",
       "    </tr>\n",
       "    <tr>\n",
       "      <th>1</th>\n",
       "      <td>38</td>\n",
       "      <td>Private</td>\n",
       "      <td>89814</td>\n",
       "      <td>HS-grad</td>\n",
       "      <td>9</td>\n",
       "      <td>Married-civ-spouse</td>\n",
       "      <td>Farming-fishing</td>\n",
       "      <td>Husband</td>\n",
       "      <td>White</td>\n",
       "      <td>Male</td>\n",
       "      <td>0</td>\n",
       "      <td>0</td>\n",
       "      <td>50</td>\n",
       "      <td>United-States</td>\n",
       "      <td>&lt;=50K</td>\n",
       "    </tr>\n",
       "    <tr>\n",
       "      <th>2</th>\n",
       "      <td>28</td>\n",
       "      <td>Local-gov</td>\n",
       "      <td>336951</td>\n",
       "      <td>Assoc-acdm</td>\n",
       "      <td>12</td>\n",
       "      <td>Married-civ-spouse</td>\n",
       "      <td>Protective-serv</td>\n",
       "      <td>Husband</td>\n",
       "      <td>White</td>\n",
       "      <td>Male</td>\n",
       "      <td>0</td>\n",
       "      <td>0</td>\n",
       "      <td>40</td>\n",
       "      <td>United-States</td>\n",
       "      <td>&gt;50K</td>\n",
       "    </tr>\n",
       "  </tbody>\n",
       "</table>\n",
       "</div>"
      ],
      "text/plain": [
       "   age  workclass  fnlwgt   education  educational-num      marital-status  \\\n",
       "0   25    Private  226802        11th                7       Never-married   \n",
       "1   38    Private   89814     HS-grad                9  Married-civ-spouse   \n",
       "2   28  Local-gov  336951  Assoc-acdm               12  Married-civ-spouse   \n",
       "\n",
       "          occupation relationship   race gender  capital-gain  capital-loss  \\\n",
       "0  Machine-op-inspct    Own-child  Black   Male             0             0   \n",
       "1    Farming-fishing      Husband  White   Male             0             0   \n",
       "2    Protective-serv      Husband  White   Male             0             0   \n",
       "\n",
       "   hours-per-week native-country income  \n",
       "0              40  United-States  <=50K  \n",
       "1              50  United-States  <=50K  \n",
       "2              40  United-States   >50K  "
      ]
     },
     "execution_count": 3,
     "metadata": {},
     "output_type": "execute_result"
    }
   ],
   "source": [
    "df = pd.read_csv('adult-income.csv')\n",
    "df.head(3)"
   ]
  },
  {
   "cell_type": "code",
   "execution_count": 4,
   "id": "e3cbf4cd-8a08-4b3a-9837-2e950bbe96f9",
   "metadata": {},
   "outputs": [
    {
     "name": "stdout",
     "output_type": "stream",
     "text": [
      "<class 'pandas.core.frame.DataFrame'>\n",
      "RangeIndex: 48842 entries, 0 to 48841\n",
      "Data columns (total 15 columns):\n",
      " #   Column           Non-Null Count  Dtype \n",
      "---  ------           --------------  ----- \n",
      " 0   age              48842 non-null  int64 \n",
      " 1   workclass        48842 non-null  object\n",
      " 2   fnlwgt           48842 non-null  int64 \n",
      " 3   education        48842 non-null  object\n",
      " 4   educational-num  48842 non-null  int64 \n",
      " 5   marital-status   48842 non-null  object\n",
      " 6   occupation       48842 non-null  object\n",
      " 7   relationship     48842 non-null  object\n",
      " 8   race             48842 non-null  object\n",
      " 9   gender           48842 non-null  object\n",
      " 10  capital-gain     48842 non-null  int64 \n",
      " 11  capital-loss     48842 non-null  int64 \n",
      " 12  hours-per-week   48842 non-null  int64 \n",
      " 13  native-country   48842 non-null  object\n",
      " 14  income           48842 non-null  object\n",
      "dtypes: int64(6), object(9)\n",
      "memory usage: 5.6+ MB\n"
     ]
    }
   ],
   "source": [
    "df.info()"
   ]
  },
  {
   "cell_type": "code",
   "execution_count": 5,
   "id": "97408d6d-8bfc-45ad-968e-e5ae7eacad60",
   "metadata": {},
   "outputs": [
    {
     "data": {
      "text/plain": [
       "['workclass',\n",
       " 'education',\n",
       " 'marital-status',\n",
       " 'occupation',\n",
       " 'relationship',\n",
       " 'race',\n",
       " 'gender',\n",
       " 'native-country',\n",
       " 'income']"
      ]
     },
     "execution_count": 5,
     "metadata": {},
     "output_type": "execute_result"
    }
   ],
   "source": [
    "columns = [column for column in df.columns if df[column].dtype == 'object']\n",
    "columns"
   ]
  },
  {
   "cell_type": "code",
   "execution_count": 6,
   "id": "1045462f-28be-4872-8a0c-fe05f03134f7",
   "metadata": {},
   "outputs": [
    {
     "name": "stdout",
     "output_type": "stream",
     "text": [
      "<class 'pandas.core.frame.DataFrame'>\n",
      "RangeIndex: 48842 entries, 0 to 48841\n",
      "Data columns (total 15 columns):\n",
      " #   Column           Non-Null Count  Dtype   \n",
      "---  ------           --------------  -----   \n",
      " 0   age              48842 non-null  int64   \n",
      " 1   workclass        48842 non-null  category\n",
      " 2   fnlwgt           48842 non-null  int64   \n",
      " 3   education        48842 non-null  category\n",
      " 4   educational-num  48842 non-null  int64   \n",
      " 5   marital-status   48842 non-null  category\n",
      " 6   occupation       48842 non-null  category\n",
      " 7   relationship     48842 non-null  category\n",
      " 8   race             48842 non-null  category\n",
      " 9   gender           48842 non-null  category\n",
      " 10  capital-gain     48842 non-null  int64   \n",
      " 11  capital-loss     48842 non-null  int64   \n",
      " 12  hours-per-week   48842 non-null  int64   \n",
      " 13  native-country   48842 non-null  category\n",
      " 14  income           48842 non-null  category\n",
      "dtypes: category(9), int64(6)\n",
      "memory usage: 2.7 MB\n"
     ]
    }
   ],
   "source": [
    "for column in columns:\n",
    "    df[column] = df[column].astype('category')\n",
    "    \n",
    "df.info()"
   ]
  },
  {
   "cell_type": "code",
   "execution_count": 7,
   "id": "67f0c401-92aa-498a-bf1f-b9c20af49728",
   "metadata": {},
   "outputs": [
    {
     "data": {
      "image/png": "[encoded data removed]",
      "text/plain": [
       "<Figure size 720x576 with 1 Axes>"
      ]
     },
     "metadata": {
      "needs_background": "light"
     },
     "output_type": "display_data"
    }
   ],
   "source": [
    "def value_count(df, col_name):\n",
    "    import seaborn as sns\n",
    "    import matplotlib.pyplot as plt\n",
    "    \n",
    "    plt.figure(figsize=(10,8))\n",
    "    ax = sns.countplot(y = col_name, data=df, orient = 'v')\n",
    "\n",
    "    plt.title('Distribution')\n",
    "\n",
    "    total = len(df[col_name])\n",
    "    for p in ax.patches:\n",
    "\n",
    "        percentage = '{:.5f}%'.format(100 * p.get_width()/total)\n",
    "        x = p.get_x() + p.get_width() + 0.02\n",
    "        y = p.get_y() + p.get_height()/2\n",
    "        ax.annotate(percentage, (x, y))\n",
    "\n",
    "    plt.show()\n",
    "    \n",
    "value_count(df, \"income\")"
   ]
  },
  {
   "cell_type": "code",
   "execution_count": 8,
   "id": "5182122c-bd46-4f0a-8c5f-de0fb06d803e",
   "metadata": {},
   "outputs": [
    {
     "name": "stdout",
     "output_type": "stream",
     "text": [
      "cat_vars: ['workclass', 'education', 'marital-status', 'occupation', 'relationship', 'race', 'gender', 'native-country']\n",
      "num_vars: ['age', 'fnlwgt', 'educational-num', 'capital-gain', 'capital-loss', 'hours-per-week']\n",
      "Labels: ['age', 'fnlwgt', 'educational-num', 'capital-gain', 'capital-loss', 'hours-per-week', 'workclass', 'education', 'marital-status', 'occupation', 'relationship', 'race', 'gender', 'native-country']\n"
     ]
    }
   ],
   "source": [
    "target = \"income\"\n",
    "cat_variables = [var for var in df.columns if df[var].dtype == 'category']\n",
    "cat_vars = [s for s in cat_variables if s != target]\n",
    "print('cat_vars:', cat_vars)\n",
    "num_variables = [var for var in df.columns if df[var].dtype != 'category']\n",
    "num_vars = [s for s in num_variables if s != target]\n",
    "print('num_vars:', num_vars)\n",
    "labels = num_vars + cat_vars\n",
    "print('Labels:', labels)"
   ]
  },
  {
   "cell_type": "code",
   "execution_count": 9,
   "id": "23c04427-2060-4a0c-909e-20eae2a582f9",
   "metadata": {},
   "outputs": [],
   "source": [
    "def splitting(data, labels, target, split_ratio):\n",
    "    \n",
    "    X = data[labels]\n",
    "    y = data[target]\n",
    "    classes = np.unique(y) # Unique values for classes\n",
    "    \n",
    "    global num_classes\n",
    "    \n",
    "    if len(classes) == 2:\n",
    "        num_classes = 1 # For binary\n",
    "    else:\n",
    "        num_classes = len(classes) # For multiclass\n",
    "\n",
    "    X_train, X_test, y_train, y_test = train_test_split(X, y, stratify = y, test_size = split_ratio, random_state = 101)\n",
    "    \n",
    "    lb = LabelBinarizer(neg_label = 0, pos_label=1, sparse_output = False)\n",
    "    y_train = lb.fit_transform(y_train)\n",
    "    y_test = lb.transform(y_test)\n",
    "    \n",
    "    col_names = X_train.columns\n",
    "\n",
    "    return X_train, X_test, y_train, y_test, classes, lb, col_names"
   ]
  },
  {
   "cell_type": "code",
   "execution_count": 11,
   "id": "fc117e93-30f0-49b1-9bf5-d7fd793b8629",
   "metadata": {},
   "outputs": [],
   "source": [
    "def optimizer(params, param_names):\n",
    "    \n",
    "    global X_train, X_test, y_train, y_test, classes, lb, col_names, input_dim, X_train_preprocessed, preprocess_pipeline, optimizer\n",
    "    X_train, X_test, y_train, y_test, classes, lb, col_names = splitting(df, labels, target, split_ratio = 0.3)\n",
    "            \n",
    "    numeric_transformer = Pipeline(steps=[\n",
    "        ('imputer', SimpleImputer(strategy='median')),\n",
    "        ('scaler', StandardScaler())])\n",
    "\n",
    "    categorical_transformer = Pipeline(steps=[\n",
    "        ('imputer', SimpleImputer(strategy='constant', fill_value='missing')),\n",
    "        ('onehot', OneHotEncoder(handle_unknown='ignore'))])\n",
    "    \n",
    "    preprocess_pipeline = ColumnTransformer(\n",
    "        transformers=[\n",
    "            ('num', numeric_transformer, num_vars),\n",
    "            ('cat', categorical_transformer, cat_vars)])\n",
    "    \n",
    "    X_train_preprocessed = preprocess_pipeline.fit_transform(X_train)\n",
    "    input_dim = X_train_preprocessed.shape[1]\n",
    "    joblib.dump(preprocess_pipeline, 'preprocess_pipeline.pkl')\n",
    "\n",
    "    params = dict(zip(param_names, params))\n",
    "    def build_classifier_(): # learning_rate=0.05, upperlayers=2, upperlayersdense=128, lowerlayers=1, lowerlayersdense=64, dropout_rate=0.2\n",
    "\n",
    "        # Model Building\n",
    "        opt = keras.optimizers.Adam(params[\"learning_rate\"])\n",
    "        model = Sequential() \n",
    "        model.add(Dense(256, activation='relu', input_dim = input_dim))\n",
    "        model.add(Dropout(params[\"dropout_rate\"]))\n",
    "        model.add(BatchNormalization())\n",
    "\n",
    "        for i in range(1, params[\"upperlayers\"]):\n",
    "            model.add(Dense(params[\"upperlayersdense\"], activation='relu'))\n",
    "            model.add(Dropout(params[\"dropout_rate\"]))\n",
    "            model.add(BatchNormalization())\n",
    "\n",
    "        for i in range(1, params[\"lowerlayers\"]):\n",
    "            model.add(Dense(params[\"lowerlayersdense\"], activation='relu'))\n",
    "            model.add(Dropout(params[\"dropout_rate\"]))\n",
    "            model.add(BatchNormalization())\n",
    "\n",
    "        model.add(Dense(units = num_classes, activation='sigmoid'))\n",
    "        model.compile(optimizer = opt, loss = 'binary_crossentropy', metrics = ['accuracy'])\n",
    "        return model\n",
    "    \n",
    "    classifier = KerasClassifier(build_fn = build_classifier_, epochs=25, batch_size = 64, verbose=0)\n",
    "    \n",
    "    accuracies =  cross_val_score(estimator=classifier, X = X_train_preprocessed.toarray(), \n",
    "                                  y = y_train.ravel(), cv = 5, n_jobs = -1, \n",
    "                                  verbose=0, fit_params={'callbacks': [EarlyStopping(monitor='loss', patience=3)]})\n",
    "    \n",
    "    print('accuracies :', accuracies)\n",
    "    print('params:', params)\n",
    "    print()\n",
    "    \n",
    "    return -1 * accuracies.mean()"
   ]
  },
  {
   "cell_type": "code",
   "execution_count": 12,
   "id": "02583aa8-b8b2-4a5e-8c9a-e42299af3a48",
   "metadata": {},
   "outputs": [],
   "source": [
    "param_names = [\"upperlayers\", \"lowerlayers\", \"upperlayersdense\", \"lowerlayersdense\", \"learning_rate\", \"dropout_rate\"]\n",
    "\n",
    "param_space = [\n",
    "    space.Integer(1, 3, name=\"upperlayers\"),\n",
    "    space.Integer(1, 2, name=\"lowerlayers\"),\n",
    "    space.Integer(128, 192, name=\"upperlayersdense\"),\n",
    "    space.Integer(64, 128, name=\"lowerlayersdense\"),\n",
    "    space.Real(0.005, 0.05, name=\"learning_rate\"),\n",
    "    space.Real(0.1, 0.5, name=\"dropout_rate\")\n",
    "]"
   ]
  },
  {
   "cell_type": "code",
   "execution_count": 13,
   "id": "17046a74-717a-4e59-94cf-c669a35b9a8d",
   "metadata": {},
   "outputs": [],
   "source": [
    "optimization_func = partial(optimizer, param_names=param_names)"
   ]
  },
  {
   "cell_type": "code",
   "execution_count": 14,
   "id": "3e5975b9-83c0-463c-8acb-34b468914183",
   "metadata": {},
   "outputs": [
    {
     "name": "stderr",
     "output_type": "stream",
     "text": [
      "<timed exec>:5: TqdmDeprecationWarning: This function will be removed in tqdm==5.0.0\n",
      "Please use `tqdm.notebook.tqdm` instead of `tqdm.tqdm_notebook`\n"
     ]
    },
    {
     "data": {
      "application/vnd.jupyter.widget-view+json": {
       "model_id": "9511a82335a24185b3af298dc7284e12",
       "version_major": 2,
       "version_minor": 0
      },
      "text/plain": [
       "Gaussian Process Optimization:   0%|          | 0/15 [00:00<?, ?it/s]"
      ]
     },
     "metadata": {},
     "output_type": "display_data"
    },
    {
     "name": "stdout",
     "output_type": "stream",
     "text": [
      "Iteration No: 1 started. Evaluating function at random point.\n"
     ]
    },
    {
     "name": "stderr",
     "output_type": "stream",
     "text": [
      "/tmp/ipykernel_129/1414430554.py:47: DeprecationWarning: KerasClassifier is deprecated, use Sci-Keras (https://github.com/adriangb/scikeras) instead. See https://www.adriangb.com/scikeras/stable/migration.html for help migrating.\n",
      "  classifier = KerasClassifier(build_fn = build_classifier_, epochs=25, batch_size = 64, verbose=0)\n",
      "2023-02-20 19:08:12.945003: W tensorflow/stream_executor/platform/default/dso_loader.cc:64] Could not load dynamic library 'libcudart.so.11.0'; dlerror: libcudart.so.11.0: cannot open shared object file: No such file or directory; LD_LIBRARY_PATH: :/home/dell/.local/lib:/opt/microsoft/jdbc:/opt/oracle/odbc:/opt/oracle/jdbc11:/usr/share/java/:/opt/teradata/jdbc:/opt/cloudera/hiveodbc/lib/64/:/opt/cloudera/hivejdbc/:/opt/EXASOL_JDBC-7.1.10\n",
      "2023-02-20 19:08:12.945062: I tensorflow/stream_executor/cuda/cudart_stub.cc:29] Ignore above cudart dlerror if you do not have a GPU set up on your machine.\n",
      "2023-02-20 19:08:12.981705: W tensorflow/stream_executor/platform/default/dso_loader.cc:64] Could not load dynamic library 'libcudart.so.11.0'; dlerror: libcudart.so.11.0: cannot open shared object file: No such file or directory; LD_LIBRARY_PATH: :/home/dell/.local/lib:/opt/microsoft/jdbc:/opt/oracle/odbc:/opt/oracle/jdbc11:/usr/share/java/:/opt/teradata/jdbc:/opt/cloudera/hiveodbc/lib/64/:/opt/cloudera/hivejdbc/:/opt/EXASOL_JDBC-7.1.10\n",
      "2023-02-20 19:08:12.981746: I tensorflow/stream_executor/cuda/cudart_stub.cc:29] Ignore above cudart dlerror if you do not have a GPU set up on your machine.\n",
      "2023-02-20 19:08:12.981815: W tensorflow/stream_executor/platform/default/dso_loader.cc:64] Could not load dynamic library 'libcudart.so.11.0'; dlerror: libcudart.so.11.0: cannot open shared object file: No such file or directory; LD_LIBRARY_PATH: :/home/dell/.local/lib:/opt/microsoft/jdbc:/opt/oracle/odbc:/opt/oracle/jdbc11:/usr/share/java/:/opt/teradata/jdbc:/opt/cloudera/hiveodbc/lib/64/:/opt/cloudera/hivejdbc/:/opt/EXASOL_JDBC-7.1.10\n",
      "2023-02-20 19:08:12.981836: I tensorflow/stream_executor/cuda/cudart_stub.cc:29] Ignore above cudart dlerror if you do not have a GPU set up on your machine.\n",
      "2023-02-20 19:08:13.026413: W tensorflow/stream_executor/platform/default/dso_loader.cc:64] Could not load dynamic library 'libcudart.so.11.0'; dlerror: libcudart.so.11.0: cannot open shared object file: No such file or directory; LD_LIBRARY_PATH: :/home/dell/.local/lib:/opt/microsoft/jdbc:/opt/oracle/odbc:/opt/oracle/jdbc11:/usr/share/java/:/opt/teradata/jdbc:/opt/cloudera/hiveodbc/lib/64/:/opt/cloudera/hivejdbc/:/opt/EXASOL_JDBC-7.1.10\n",
      "2023-02-20 19:08:13.026466: I tensorflow/stream_executor/cuda/cudart_stub.cc:29] Ignore above cudart dlerror if you do not have a GPU set up on your machine.\n",
      "2023-02-20 19:08:15.293538: W tensorflow/stream_executor/platform/default/dso_loader.cc:64] Could not load dynamic library 'libcuda.so.1'; dlerror: libcuda.so.1: cannot open shared object file: No such file or directory; LD_LIBRARY_PATH: :/home/dell/.local/lib:/opt/microsoft/jdbc:/opt/oracle/odbc:/opt/oracle/jdbc11:/usr/share/java/:/opt/teradata/jdbc:/opt/cloudera/hiveodbc/lib/64/:/opt/cloudera/hivejdbc/:/opt/EXASOL_JDBC-7.1.10\n",
      "2023-02-20 19:08:15.293784: W tensorflow/stream_executor/cuda/cuda_driver.cc:269] failed call to cuInit: UNKNOWN ERROR (303)\n",
      "2023-02-20 19:08:15.293853: I tensorflow/stream_executor/cuda/cuda_diagnostics.cc:156] kernel driver does not appear to be running on this host (jupyter-abhishek-sharma39): /proc/driver/nvidia/version does not exist\n",
      "2023-02-20 19:08:15.294238: I tensorflow/core/platform/cpu_feature_guard.cc:193] This TensorFlow binary is optimized with oneAPI Deep Neural Network Library (oneDNN) to use the following CPU instructions in performance-critical operations:  AVX2 AVX512F FMA\n",
      "To enable them in other operations, rebuild TensorFlow with the appropriate compiler flags.\n",
      "2023-02-20 19:08:15.304438: W tensorflow/stream_executor/platform/default/dso_loader.cc:64] Could not load dynamic library 'libcuda.so.1'; dlerror: libcuda.so.1: cannot open shared object file: No such file or directory; LD_LIBRARY_PATH: :/home/dell/.local/lib:/opt/microsoft/jdbc:/opt/oracle/odbc:/opt/oracle/jdbc11:/usr/share/java/:/opt/teradata/jdbc:/opt/cloudera/hiveodbc/lib/64/:/opt/cloudera/hivejdbc/:/opt/EXASOL_JDBC-7.1.10\n",
      "2023-02-20 19:08:15.304475: W tensorflow/stream_executor/cuda/cuda_driver.cc:269] failed call to cuInit: UNKNOWN ERROR (303)\n",
      "2023-02-20 19:08:15.304509: I tensorflow/stream_executor/cuda/cuda_diagnostics.cc:156] kernel driver does not appear to be running on this host (jupyter-abhishek-sharma39): /proc/driver/nvidia/version does not exist\n",
      "2023-02-20 19:08:15.304803: I tensorflow/core/platform/cpu_feature_guard.cc:193] This TensorFlow binary is optimized with oneAPI Deep Neural Network Library (oneDNN) to use the following CPU instructions in performance-critical operations:  AVX2 AVX512F FMA\n",
      "To enable them in other operations, rebuild TensorFlow with the appropriate compiler flags.\n",
      "2023-02-20 19:08:15.325264: W tensorflow/stream_executor/platform/default/dso_loader.cc:64] Could not load dynamic library 'libcuda.so.1'; dlerror: libcuda.so.1: cannot open shared object file: No such file or directory; LD_LIBRARY_PATH: :/home/dell/.local/lib:/opt/microsoft/jdbc:/opt/oracle/odbc:/opt/oracle/jdbc11:/usr/share/java/:/opt/teradata/jdbc:/opt/cloudera/hiveodbc/lib/64/:/opt/cloudera/hivejdbc/:/opt/EXASOL_JDBC-7.1.10\n",
      "2023-02-20 19:08:15.325316: W tensorflow/stream_executor/cuda/cuda_driver.cc:269] failed call to cuInit: UNKNOWN ERROR (303)\n",
      "2023-02-20 19:08:15.325348: I tensorflow/stream_executor/cuda/cuda_diagnostics.cc:156] kernel driver does not appear to be running on this host (jupyter-abhishek-sharma39): /proc/driver/nvidia/version does not exist\n",
      "2023-02-20 19:08:15.325692: I tensorflow/core/platform/cpu_feature_guard.cc:193] This TensorFlow binary is optimized with oneAPI Deep Neural Network Library (oneDNN) to use the following CPU instructions in performance-critical operations:  AVX2 AVX512F FMA\n",
      "To enable them in other operations, rebuild TensorFlow with the appropriate compiler flags.\n",
      "2023-02-20 19:08:15.411665: W tensorflow/stream_executor/platform/default/dso_loader.cc:64] Could not load dynamic library 'libcuda.so.1'; dlerror: libcuda.so.1: cannot open shared object file: No such file or directory; LD_LIBRARY_PATH: :/home/dell/.local/lib:/opt/microsoft/jdbc:/opt/oracle/odbc:/opt/oracle/jdbc11:/usr/share/java/:/opt/teradata/jdbc:/opt/cloudera/hiveodbc/lib/64/:/opt/cloudera/hivejdbc/:/opt/EXASOL_JDBC-7.1.10\n",
      "2023-02-20 19:08:15.411704: W tensorflow/stream_executor/cuda/cuda_driver.cc:269] failed call to cuInit: UNKNOWN ERROR (303)\n",
      "2023-02-20 19:08:15.411737: I tensorflow/stream_executor/cuda/cuda_diagnostics.cc:156] kernel driver does not appear to be running on this host (jupyter-abhishek-sharma39): /proc/driver/nvidia/version does not exist\n",
      "2023-02-20 19:08:15.412029: I tensorflow/core/platform/cpu_feature_guard.cc:193] This TensorFlow binary is optimized with oneAPI Deep Neural Network Library (oneDNN) to use the following CPU instructions in performance-critical operations:  AVX2 AVX512F FMA\n",
      "To enable them in other operations, rebuild TensorFlow with the appropriate compiler flags.\n"
     ]
    },
    {
     "name": "stdout",
     "output_type": "stream",
     "text": [
      "accuracies : [0.85565954 0.83752561 0.85829192 0.85946184 0.84452248]\n",
      "params: {'upperlayers': 3, 'lowerlayers': 1, 'upperlayersdense': 178, 'lowerlayersdense': 102, 'learning_rate': 0.02506247387841161, 'dropout_rate': 0.13998996632720118}\n",
      "\n",
      "Iteration No: 1 ended. Evaluation done at random point.\n",
      "Time taken: 194.6036\n",
      "Function value obtained: -0.8511\n",
      "Current minimum: -0.8511\n",
      "Iteration No: 2 started. Evaluating function at random point.\n"
     ]
    },
    {
     "name": "stderr",
     "output_type": "stream",
     "text": [
      "/tmp/ipykernel_129/1414430554.py:47: DeprecationWarning: KerasClassifier is deprecated, use Sci-Keras (https://github.com/adriangb/scikeras) instead. See https://www.adriangb.com/scikeras/stable/migration.html for help migrating.\n",
      "  classifier = KerasClassifier(build_fn = build_classifier_, epochs=25, batch_size = 64, verbose=0)\n"
     ]
    },
    {
     "name": "stdout",
     "output_type": "stream",
     "text": [
      "accuracies : [0.85522085 0.84001172 0.85682946 0.85887688 0.84861779]\n",
      "params: {'upperlayers': 2, 'lowerlayers': 1, 'upperlayersdense': 137, 'lowerlayersdense': 106, 'learning_rate': 0.007538521056219513, 'dropout_rate': 0.38879950890673}\n",
      "\n",
      "Iteration No: 2 ended. Evaluation done at random point.\n",
      "Time taken: 141.8526\n",
      "Function value obtained: -0.8519\n",
      "Current minimum: -0.8519\n",
      "Iteration No: 3 started. Evaluating function at random point.\n"
     ]
    },
    {
     "name": "stderr",
     "output_type": "stream",
     "text": [
      "/tmp/ipykernel_129/1414430554.py:47: DeprecationWarning: KerasClassifier is deprecated, use Sci-Keras (https://github.com/adriangb/scikeras) instead. See https://www.adriangb.com/scikeras/stable/migration.html for help migrating.\n",
      "  classifier = KerasClassifier(build_fn = build_classifier_, epochs=25, batch_size = 64, verbose=0)\n"
     ]
    },
    {
     "name": "stdout",
     "output_type": "stream",
     "text": [
      "accuracies : [0.85375839 0.84732378 0.85580581 0.8547821  0.84978789]\n",
      "params: {'upperlayers': 3, 'lowerlayers': 1, 'upperlayersdense': 192, 'lowerlayersdense': 104, 'learning_rate': 0.03252439222197265, 'dropout_rate': 0.10282652208788697}\n",
      "\n",
      "Iteration No: 3 ended. Evaluation done at random point.\n",
      "Time taken: 159.4739\n",
      "Function value obtained: -0.8523\n",
      "Current minimum: -0.8523\n",
      "Iteration No: 4 started. Evaluating function at random point.\n"
     ]
    },
    {
     "name": "stderr",
     "output_type": "stream",
     "text": [
      "/tmp/ipykernel_129/1414430554.py:47: DeprecationWarning: KerasClassifier is deprecated, use Sci-Keras (https://github.com/adriangb/scikeras) instead. See https://www.adriangb.com/scikeras/stable/migration.html for help migrating.\n",
      "  classifier = KerasClassifier(build_fn = build_classifier_, epochs=25, batch_size = 64, verbose=0)\n"
     ]
    },
    {
     "name": "stdout",
     "output_type": "stream",
     "text": [
      "accuracies : [0.85522085 0.84527642 0.85931557 0.84907866 0.84949541]\n",
      "params: {'upperlayers': 1, 'lowerlayers': 2, 'upperlayersdense': 154, 'lowerlayersdense': 67, 'learning_rate': 0.048818998347865676, 'dropout_rate': 0.19310853617212173}\n",
      "\n",
      "Iteration No: 4 ended. Evaluation done at random point.\n",
      "Time taken: 76.0362\n",
      "Function value obtained: -0.8517\n",
      "Current minimum: -0.8523\n",
      "Iteration No: 5 started. Evaluating function at random point.\n"
     ]
    },
    {
     "name": "stderr",
     "output_type": "stream",
     "text": [
      "/tmp/ipykernel_129/1414430554.py:47: DeprecationWarning: KerasClassifier is deprecated, use Sci-Keras (https://github.com/adriangb/scikeras) instead. See https://www.adriangb.com/scikeras/stable/migration.html for help migrating.\n",
      "  classifier = KerasClassifier(build_fn = build_classifier_, epochs=25, batch_size = 64, verbose=0)\n"
     ]
    },
    {
     "name": "stdout",
     "output_type": "stream",
     "text": [
      "accuracies : [0.8585844  0.82129276 0.85843813 0.86136299 0.83954948]\n",
      "params: {'upperlayers': 1, 'lowerlayers': 2, 'upperlayersdense': 152, 'lowerlayersdense': 127, 'learning_rate': 0.026004330196159105, 'dropout_rate': 0.44397616269452833}\n",
      "\n",
      "Iteration No: 5 ended. Evaluation done at random point.\n",
      "Time taken: 102.1109\n",
      "Function value obtained: -0.8478\n",
      "Current minimum: -0.8523\n",
      "Iteration No: 6 started. Evaluating function at random point.\n"
     ]
    },
    {
     "name": "stderr",
     "output_type": "stream",
     "text": [
      "/tmp/ipykernel_129/1414430554.py:47: DeprecationWarning: KerasClassifier is deprecated, use Sci-Keras (https://github.com/adriangb/scikeras) instead. See https://www.adriangb.com/scikeras/stable/migration.html for help migrating.\n",
      "  classifier = KerasClassifier(build_fn = build_classifier_, epochs=25, batch_size = 64, verbose=0)\n"
     ]
    },
    {
     "name": "stdout",
     "output_type": "stream",
     "text": [
      "accuracies : [0.86092424 0.843229   0.85492831 0.85990053 0.84700894]\n",
      "params: {'upperlayers': 2, 'lowerlayers': 1, 'upperlayersdense': 129, 'lowerlayersdense': 124, 'learning_rate': 0.030347969803049275, 'dropout_rate': 0.2541666010159665}\n",
      "\n",
      "Iteration No: 6 ended. Evaluation done at random point.\n",
      "Time taken: 84.3447\n",
      "Function value obtained: -0.8532\n",
      "Current minimum: -0.8532\n",
      "Iteration No: 7 started. Evaluating function at random point.\n"
     ]
    },
    {
     "name": "stderr",
     "output_type": "stream",
     "text": [
      "/tmp/ipykernel_129/1414430554.py:47: DeprecationWarning: KerasClassifier is deprecated, use Sci-Keras (https://github.com/adriangb/scikeras) instead. See https://www.adriangb.com/scikeras/stable/migration.html for help migrating.\n",
      "  classifier = KerasClassifier(build_fn = build_classifier_, epochs=25, batch_size = 64, verbose=0)\n"
     ]
    },
    {
     "name": "stdout",
     "output_type": "stream",
     "text": [
      "accuracies : [0.85668325 0.84396023 0.84001172 0.85726821 0.8513968 ]\n",
      "params: {'upperlayers': 1, 'lowerlayers': 1, 'upperlayersdense': 143, 'lowerlayersdense': 108, 'learning_rate': 0.03244984960021795, 'dropout_rate': 0.4332779646944659}\n",
      "\n",
      "Iteration No: 7 ended. Evaluation done at random point.\n",
      "Time taken: 37.4241\n",
      "Function value obtained: -0.8499\n",
      "Current minimum: -0.8532\n",
      "Iteration No: 8 started. Evaluating function at random point.\n"
     ]
    },
    {
     "name": "stderr",
     "output_type": "stream",
     "text": [
      "/tmp/ipykernel_129/1414430554.py:47: DeprecationWarning: KerasClassifier is deprecated, use Sci-Keras (https://github.com/adriangb/scikeras) instead. See https://www.adriangb.com/scikeras/stable/migration.html for help migrating.\n",
      "  classifier = KerasClassifier(build_fn = build_classifier_, epochs=25, batch_size = 64, verbose=0)\n"
     ]
    },
    {
     "name": "stdout",
     "output_type": "stream",
     "text": [
      "accuracies : [0.85741442 0.85083359 0.8547821  0.85346591 0.84978789]\n",
      "params: {'upperlayers': 1, 'lowerlayers': 1, 'upperlayersdense': 140, 'lowerlayersdense': 112, 'learning_rate': 0.024132014352106018, 'dropout_rate': 0.18317666514727557}\n",
      "\n",
      "Iteration No: 8 ended. Evaluation done at random point.\n",
      "Time taken: 70.9135\n",
      "Function value obtained: -0.8533\n",
      "Current minimum: -0.8533\n",
      "Iteration No: 9 started. Evaluating function at random point.\n"
     ]
    },
    {
     "name": "stderr",
     "output_type": "stream",
     "text": [
      "/tmp/ipykernel_129/1414430554.py:47: DeprecationWarning: KerasClassifier is deprecated, use Sci-Keras (https://github.com/adriangb/scikeras) instead. See https://www.adriangb.com/scikeras/stable/migration.html for help migrating.\n",
      "  classifier = KerasClassifier(build_fn = build_classifier_, epochs=25, batch_size = 64, verbose=0)\n"
     ]
    },
    {
     "name": "stdout",
     "output_type": "stream",
     "text": [
      "accuracies : [0.81558937 0.84790874 0.84995615 0.85507458 0.84247476]\n",
      "params: {'upperlayers': 2, 'lowerlayers': 1, 'upperlayersdense': 182, 'lowerlayersdense': 93, 'learning_rate': 0.022781760620081658, 'dropout_rate': 0.47066354631751783}\n",
      "\n",
      "Iteration No: 9 ended. Evaluation done at random point.\n",
      "Time taken: 85.7034\n",
      "Function value obtained: -0.8422\n",
      "Current minimum: -0.8533\n",
      "Iteration No: 10 started. Evaluating function at random point.\n"
     ]
    },
    {
     "name": "stderr",
     "output_type": "stream",
     "text": [
      "/tmp/ipykernel_129/1414430554.py:47: DeprecationWarning: KerasClassifier is deprecated, use Sci-Keras (https://github.com/adriangb/scikeras) instead. See https://www.adriangb.com/scikeras/stable/migration.html for help migrating.\n",
      "  classifier = KerasClassifier(build_fn = build_classifier_, epochs=25, batch_size = 64, verbose=0)\n"
     ]
    },
    {
     "name": "stdout",
     "output_type": "stream",
     "text": [
      "accuracies : [0.84396023 0.8524422  0.8470313  0.85024863 0.84496123]\n",
      "params: {'upperlayers': 2, 'lowerlayers': 1, 'upperlayersdense': 165, 'lowerlayersdense': 97, 'learning_rate': 0.048252741095720725, 'dropout_rate': 0.43781353947126067}\n",
      "\n",
      "Iteration No: 10 ended. Evaluation done at random point.\n",
      "Time taken: 68.1418\n",
      "Function value obtained: -0.8477\n",
      "Current minimum: -0.8533\n",
      "Iteration No: 11 started. Searching for the next optimal point.\n"
     ]
    },
    {
     "name": "stderr",
     "output_type": "stream",
     "text": [
      "/tmp/ipykernel_129/1414430554.py:47: DeprecationWarning: KerasClassifier is deprecated, use Sci-Keras (https://github.com/adriangb/scikeras) instead. See https://www.adriangb.com/scikeras/stable/migration.html for help migrating.\n",
      "  classifier = KerasClassifier(build_fn = build_classifier_, epochs=25, batch_size = 64, verbose=0)\n"
     ]
    },
    {
     "name": "stdout",
     "output_type": "stream",
     "text": [
      "accuracies : [0.8524422  0.84542263 0.85814565 0.84922493 0.84964168]\n",
      "params: {'upperlayers': 2, 'lowerlayers': 2, 'upperlayersdense': 128, 'lowerlayersdense': 72, 'learning_rate': 0.005, 'dropout_rate': 0.1}\n",
      "\n",
      "Iteration No: 11 ended. Search finished for the next optimal point.\n",
      "Time taken: 169.9217\n",
      "Function value obtained: -0.8510\n",
      "Current minimum: -0.8533\n",
      "Iteration No: 12 started. Searching for the next optimal point.\n"
     ]
    },
    {
     "name": "stderr",
     "output_type": "stream",
     "text": [
      "/tmp/ipykernel_129/1414430554.py:47: DeprecationWarning: KerasClassifier is deprecated, use Sci-Keras (https://github.com/adriangb/scikeras) instead. See https://www.adriangb.com/scikeras/stable/migration.html for help migrating.\n",
      "  classifier = KerasClassifier(build_fn = build_classifier_, epochs=25, batch_size = 64, verbose=0)\n"
     ]
    },
    {
     "name": "stdout",
     "output_type": "stream",
     "text": [
      "accuracies : [0.85653698 0.84937114 0.79760164 0.79643172 0.80912679]\n",
      "params: {'upperlayers': 1, 'lowerlayers': 2, 'upperlayersdense': 128, 'lowerlayersdense': 105, 'learning_rate': 0.05, 'dropout_rate': 0.339506310785901}\n",
      "\n",
      "Iteration No: 12 ended. Search finished for the next optimal point.\n",
      "Time taken: 87.1105\n",
      "Function value obtained: -0.8218\n",
      "Current minimum: -0.8533\n",
      "Iteration No: 13 started. Searching for the next optimal point.\n"
     ]
    },
    {
     "name": "stderr",
     "output_type": "stream",
     "text": [
      "/tmp/ipykernel_129/1414430554.py:47: DeprecationWarning: KerasClassifier is deprecated, use Sci-Keras (https://github.com/adriangb/scikeras) instead. See https://www.adriangb.com/scikeras/stable/migration.html for help migrating.\n",
      "  classifier = KerasClassifier(build_fn = build_classifier_, epochs=25, batch_size = 64, verbose=0)\n"
     ]
    },
    {
     "name": "stdout",
     "output_type": "stream",
     "text": [
      "accuracies : [0.85302722 0.84922493 0.84776253 0.83664817 0.83428407]\n",
      "params: {'upperlayers': 1, 'lowerlayers': 1, 'upperlayersdense': 164, 'lowerlayersdense': 64, 'learning_rate': 0.04849886433072596, 'dropout_rate': 0.12067064487142899}\n",
      "\n",
      "Iteration No: 13 ended. Search finished for the next optimal point.\n",
      "Time taken: 39.0851\n",
      "Function value obtained: -0.8442\n",
      "Current minimum: -0.8533\n",
      "Iteration No: 14 started. Searching for the next optimal point.\n"
     ]
    },
    {
     "name": "stderr",
     "output_type": "stream",
     "text": [
      "/tmp/ipykernel_129/1414430554.py:47: DeprecationWarning: KerasClassifier is deprecated, use Sci-Keras (https://github.com/adriangb/scikeras) instead. See https://www.adriangb.com/scikeras/stable/migration.html for help migrating.\n",
      "  classifier = KerasClassifier(build_fn = build_classifier_, epochs=25, batch_size = 64, verbose=0)\n"
     ]
    },
    {
     "name": "stdout",
     "output_type": "stream",
     "text": [
      "accuracies : [0.85214972 0.85010237 0.85843813 0.85463583 0.84686267]\n",
      "params: {'upperlayers': 3, 'lowerlayers': 1, 'upperlayersdense': 128, 'lowerlayersdense': 116, 'learning_rate': 0.005, 'dropout_rate': 0.5}\n",
      "\n",
      "Iteration No: 14 ended. Search finished for the next optimal point.\n",
      "Time taken: 155.8878\n",
      "Function value obtained: -0.8524\n",
      "Current minimum: -0.8533\n",
      "Iteration No: 15 started. Searching for the next optimal point.\n"
     ]
    },
    {
     "name": "stderr",
     "output_type": "stream",
     "text": [
      "/tmp/ipykernel_129/1414430554.py:47: DeprecationWarning: KerasClassifier is deprecated, use Sci-Keras (https://github.com/adriangb/scikeras) instead. See https://www.adriangb.com/scikeras/stable/migration.html for help migrating.\n",
      "  classifier = KerasClassifier(build_fn = build_classifier_, epochs=25, batch_size = 64, verbose=0)\n",
      "/opt/conda/lib/python3.10/site-packages/joblib/externals/loky/process_executor.py:702: UserWarning: A worker stopped while some jobs were given to the executor. This can be caused by a too short worker timeout or by a memory leak.\n",
      "  warnings.warn(\n",
      "2023-02-20 19:34:37.510606: W tensorflow/stream_executor/platform/default/dso_loader.cc:64] Could not load dynamic library 'libcudart.so.11.0'; dlerror: libcudart.so.11.0: cannot open shared object file: No such file or directory; LD_LIBRARY_PATH: :/home/dell/.local/lib:/opt/microsoft/jdbc:/opt/oracle/odbc:/opt/oracle/jdbc11:/usr/share/java/:/opt/teradata/jdbc:/opt/cloudera/hiveodbc/lib/64/:/opt/cloudera/hivejdbc/:/opt/EXASOL_JDBC-7.1.10\n",
      "2023-02-20 19:34:37.510889: I tensorflow/stream_executor/cuda/cudart_stub.cc:29] Ignore above cudart dlerror if you do not have a GPU set up on your machine.\n",
      "2023-02-20 19:34:41.762742: W tensorflow/stream_executor/platform/default/dso_loader.cc:64] Could not load dynamic library 'libcuda.so.1'; dlerror: libcuda.so.1: cannot open shared object file: No such file or directory; LD_LIBRARY_PATH: :/home/dell/.local/lib:/opt/microsoft/jdbc:/opt/oracle/odbc:/opt/oracle/jdbc11:/usr/share/java/:/opt/teradata/jdbc:/opt/cloudera/hiveodbc/lib/64/:/opt/cloudera/hivejdbc/:/opt/EXASOL_JDBC-7.1.10\n",
      "2023-02-20 19:34:41.762785: W tensorflow/stream_executor/cuda/cuda_driver.cc:269] failed call to cuInit: UNKNOWN ERROR (303)\n",
      "2023-02-20 19:34:41.762826: I tensorflow/stream_executor/cuda/cuda_diagnostics.cc:156] kernel driver does not appear to be running on this host (jupyter-abhishek-sharma39): /proc/driver/nvidia/version does not exist\n",
      "2023-02-20 19:34:41.763200: I tensorflow/core/platform/cpu_feature_guard.cc:193] This TensorFlow binary is optimized with oneAPI Deep Neural Network Library (oneDNN) to use the following CPU instructions in performance-critical operations:  AVX2 AVX512F FMA\n",
      "To enable them in other operations, rebuild TensorFlow with the appropriate compiler flags.\n"
     ]
    },
    {
     "name": "stdout",
     "output_type": "stream",
     "text": [
      "accuracies : [0.85960805 0.84893245 0.84366775 0.85873061 0.84481496]\n",
      "params: {'upperlayers': 3, 'lowerlayers': 2, 'upperlayersdense': 143, 'lowerlayersdense': 84, 'learning_rate': 0.011331266366517719, 'dropout_rate': 0.4896107647764284}\n",
      "\n",
      "Iteration No: 15 ended. Search finished for the next optimal point.\n",
      "Time taken: 155.7071\n",
      "Function value obtained: -0.8512\n",
      "Current minimum: -0.8533\n",
      "CPU times: user 11.3 s, sys: 7.37 s, total: 18.6 s\n",
      "Wall time: 27min 8s\n"
     ]
    }
   ],
   "source": [
    "%%time\n",
    "\n",
    "from tqdm import tqdm_notebook as tqdm\n",
    "\n",
    "class tqdm_skopt(object):\n",
    "    def __init__(self, **kwargs):\n",
    "        self._bar = tqdm(**kwargs)\n",
    "        \n",
    "    def __call__(self, res):\n",
    "        self._bar.update()\n",
    "\n",
    "n_calls = 15 # Minimum 5 calls\n",
    "\n",
    "result = gp_minimize(optimization_func,\n",
    "                     dimensions=param_space,\n",
    "                     n_calls=n_calls,\n",
    "                     n_jobs=-1,\n",
    "                     random_state=42,\n",
    "                     n_random_starts=10,\n",
    "                     verbose=True,\n",
    "                     callback=[tqdm_skopt(total=n_calls, desc=\"Gaussian Process Optimization\")])\n"
   ]
  },
  {
   "cell_type": "code",
   "execution_count": 15,
   "id": "8e09d2e3-e44d-404c-a406-5c1e53a426b3",
   "metadata": {},
   "outputs": [
    {
     "data": {
      "image/png": "[encoded data removed]",
      "text/plain": [
       "<Figure size 432x288 with 1 Axes>"
      ]
     },
     "metadata": {
      "needs_background": "light"
     },
     "output_type": "display_data"
    }
   ],
   "source": [
    "from skopt.plots import plot_convergence\n",
    "plot_convergence(result);"
   ]
  },
  {
   "cell_type": "code",
   "execution_count": 16,
   "id": "d16560dd-6cf7-4c01-94fe-8781ee7be02b",
   "metadata": {},
   "outputs": [
    {
     "name": "stdout",
     "output_type": "stream",
     "text": [
      "{'upperlayers': 1, 'lowerlayers': 1, 'upperlayersdense': 140, 'lowerlayersdense': 112, 'learning_rate': 0.024132014352106018, 'dropout_rate': 0.18317666514727557}\n"
     ]
    }
   ],
   "source": [
    "tuned_param = dict(zip(param_names, result.x))\n",
    "print(tuned_param)"
   ]
  },
  {
   "cell_type": "code",
   "execution_count": 26,
   "id": "7d2f06ef-f924-45df-a59c-db09a3de07ec",
   "metadata": {},
   "outputs": [],
   "source": [
    "def plot_loss(history):\n",
    "    \n",
    "    # print(history.history.keys())\n",
    "    plt.plot(history.history['accuracy'])\n",
    "    plt.plot(history.history['val_accuracy'])\n",
    "    plt.title('model accuracy')\n",
    "    plt.ylabel('accuracy')\n",
    "    plt.xlabel('epoch')\n",
    "    plt.legend(['train', 'test'], loc='upper left')\n",
    "    plt.show()\n",
    "\n",
    "    # summarize history for loss\n",
    "    plt.plot(history.history['loss'])\n",
    "    plt.plot(history.history['val_loss'])\n",
    "    plt.title('model loss')\n",
    "    plt.ylabel('loss')\n",
    "    plt.xlabel('epoch')\n",
    "    plt.legend(['train', 'test'], loc='upper left')\n",
    "    plt.show()"
   ]
  },
  {
   "cell_type": "code",
   "execution_count": 27,
   "id": "fea69f24-d5a1-4e1a-a5fc-b15244f6ff13",
   "metadata": {},
   "outputs": [
    {
     "data": {
      "image/png": "[encoded data removed]",
      "text/plain": [
       "<Figure size 432x288 with 1 Axes>"
      ]
     },
     "metadata": {
      "needs_background": "light"
     },
     "output_type": "display_data"
    },
    {
     "data": {
      "image/png": "[encoded data removed]",
      "text/plain": [
       "<Figure size 432x288 with 1 Axes>"
      ]
     },
     "metadata": {
      "needs_background": "light"
     },
     "output_type": "display_data"
    }
   ],
   "source": [
    "import matplotlib.pyplot as plt\n",
    "\n",
    "model = Sequential() \n",
    "\n",
    "opt = keras.optimizers.Adam(learning_rate = tuned_param[\"learning_rate\"])\n",
    "    \n",
    "model.add(Dense(256, activation='relu', input_dim = input_dim))\n",
    "model.add(BatchNormalization())\n",
    "model.add(Dropout(tuned_param[\"dropout_rate\"]))\n",
    "\n",
    "model.add(Dense(tuned_param[\"upperlayersdense\"], activation='relu'))\n",
    "model.add(BatchNormalization())\n",
    "model.add(Dropout(tuned_param[\"dropout_rate\"]))\n",
    "\n",
    "model.add(Dense(tuned_param[\"lowerlayersdense\"], activation='relu'))\n",
    "model.add(BatchNormalization())\n",
    "model.add(Dropout(tuned_param[\"dropout_rate\"]))\n",
    "\n",
    "# num_classes\n",
    "model.add(Dense(units = 1, activation='sigmoid'))\n",
    "\n",
    "model.compile(optimizer = opt, loss = 'binary_crossentropy', \n",
    "                   metrics = ['accuracy'])\n",
    "\n",
    "history = model.fit(X_train_preprocessed.toarray(), y_train, epochs = 50, \n",
    "          validation_data = (preprocess_pipeline.transform(X_test).toarray(), y_test), \n",
    "          callbacks = EarlyStopping(monitor='loss', patience=3), batch_size = 64, verbose=0)\n",
    "\n",
    "# summarize history for accuracy\n",
    "plot_loss(history)"
   ]
  }
 ],
 "metadata": {
  "kernelspec": {
   "display_name": "Python 3 (ipykernel)",
   "language": "python",
   "name": "python3"
  },
  "language_info": {
   "codemirror_mode": {
    "name": "ipython",
    "version": 3
   },
   "file_extension": ".py",
   "mimetype": "text/x-python",
   "name": "python",
   "nbconvert_exporter": "python",
   "pygments_lexer": "ipython3",
   "version": "3.10.5"
  }
 },
 "nbformat": 4,
 "nbformat_minor": 5
}
